{
 "cells": [
  {
   "cell_type": "code",
   "execution_count": 11,
   "metadata": {},
   "outputs": [],
   "source": [
    "%autoawait sync"
   ]
  },
  {
   "cell_type": "markdown",
   "metadata": {},
   "source": [
    "### Allow All Spark Magic Function to Run without %"
   ]
  },
  {
   "cell_type": "code",
   "execution_count": 40,
   "metadata": {},
   "outputs": [
    {
     "name": "stdout",
     "output_type": "stream",
     "text": [
      "\n",
      "Automagic is OFF, % prefix IS needed for line magics.\n",
      "\n",
      "Automagic is ON, % prefix IS NOT needed for line magics.\n"
     ]
    }
   ],
   "source": [
    "%automagic\n",
    "%automagic"
   ]
  },
  {
   "cell_type": "markdown",
   "metadata": {},
   "source": [
    "### Exploring Spark Magic Function By Function"
   ]
  },
  {
   "cell_type": "markdown",
   "metadata": {},
   "source": [
    "Storing cmd function to a variable by using __%alias%__ "
   ]
  },
  {
   "cell_type": "markdown",
   "metadata": {},
   "source": [
    "Syntax as follow: \n",
    "    - alias <variable> <cmd from bash>\n",
    "    - %alias <variable> <cmd from bash>"
   ]
  },
  {
   "cell_type": "code",
   "execution_count": 12,
   "metadata": {},
   "outputs": [
    {
     "name": "stdout",
     "output_type": "stream",
     "text": [
      "Total number of aliases: 8\n"
     ]
    },
    {
     "data": {
      "text/plain": [
       "[('copy', 'copy'),\n",
       " ('ddir', 'dir /ad /on'),\n",
       " ('echo', 'echo'),\n",
       " ('ldir', 'dir /ad /on'),\n",
       " ('ls', 'dir /on'),\n",
       " ('mkdir', 'mkdir'),\n",
       " ('ren', 'ren'),\n",
       " ('rmdir', 'rmdir')]"
      ]
     },
     "execution_count": 12,
     "metadata": {},
     "output_type": "execute_result"
    }
   ],
   "source": [
    "# List out the cmd that can be used\n",
    "%alias "
   ]
  },
  {
   "cell_type": "code",
   "execution_count": 3,
   "metadata": {},
   "outputs": [],
   "source": [
    "%alias get_file_name ls | grep .ipynb"
   ]
  },
  {
   "cell_type": "code",
   "execution_count": 4,
   "metadata": {},
   "outputs": [
    {
     "name": "stdout",
     "output_type": "stream",
     "text": [
      "csv_validator.ipynb\n",
      "Database_Connection.ipynb\n",
      "EDPHeathcheck_Template.ipynb\n",
      "Explore Spark Magic.ipynb\n",
      "file_check.ipynb\n",
      "Pyspark Data Checking.ipynb\n",
      "Test.ipynb\n",
      "xml_validator.ipynb\n"
     ]
    }
   ],
   "source": [
    "get_file_name"
   ]
  },
  {
   "cell_type": "code",
   "execution_count": 13,
   "metadata": {},
   "outputs": [],
   "source": [
    "%alias get_file_name_insert ls | grep %s"
   ]
  },
  {
   "cell_type": "code",
   "execution_count": 14,
   "metadata": {},
   "outputs": [
    {
     "name": "stderr",
     "output_type": "stream",
     "text": [
      "'ls' is not recognized as an internal or external command,\n",
      "operable program or batch file.\n"
     ]
    }
   ],
   "source": [
    "get_file_name_insert csv"
   ]
  },
  {
   "cell_type": "code",
   "execution_count": 7,
   "metadata": {},
   "outputs": [],
   "source": [
    "# get the definition of the alias\n",
    "get_file_name_insert?"
   ]
  },
  {
   "cell_type": "markdown",
   "metadata": {},
   "source": [
    "Setting alias for spark magic function"
   ]
  },
  {
   "cell_type": "code",
   "execution_count": 8,
   "metadata": {},
   "outputs": [
    {
     "name": "stdout",
     "output_type": "stream",
     "text": [
      "Created `%t` as an alias for `%timeit`.\n",
      "Created `%%t` as an alias for `%%timeit`.\n"
     ]
    }
   ],
   "source": [
    "%alias_magic t timeit"
   ]
  },
  {
   "cell_type": "code",
   "execution_count": 9,
   "metadata": {},
   "outputs": [
    {
     "name": "stdout",
     "output_type": "stream",
     "text": [
      "257 ns ± 105 ns per loop (mean ± std. dev. of 7 runs, 1 loop each)\n"
     ]
    }
   ],
   "source": [
    "%t -n1 pass"
   ]
  },
  {
   "cell_type": "code",
   "execution_count": 10,
   "metadata": {},
   "outputs": [
    {
     "name": "stdout",
     "output_type": "stream",
     "text": [
      "114 ns ± 83.3 ns per loop (mean ± std. dev. of 7 runs, 1 loop each)\n"
     ]
    }
   ],
   "source": [
    "%%t -n1 \n",
    "pass"
   ]
  },
  {
   "cell_type": "markdown",
   "metadata": {},
   "source": [
    "1. -l == define line magic\n",
    "2. -c == define cell magic\n",
    "3. -p == the variable that is passed to the new created magic"
   ]
  },
  {
   "cell_type": "code",
   "execution_count": 11,
   "metadata": {},
   "outputs": [
    {
     "name": "stdout",
     "output_type": "stream",
     "text": [
      "Created `%x` as an alias for `%timeit -n1 pass`.\n"
     ]
    }
   ],
   "source": [
    "%alias_magic -l x timeit -p \"-n1 pass\""
   ]
  },
  {
   "cell_type": "code",
   "execution_count": 12,
   "metadata": {},
   "outputs": [
    {
     "name": "stdout",
     "output_type": "stream",
     "text": [
      "257 ns ± 105 ns per loop (mean ± std. dev. of 7 runs, 1 loop each)\n"
     ]
    }
   ],
   "source": [
    "%x"
   ]
  },
  {
   "cell_type": "markdown",
   "metadata": {},
   "source": [
    "Make functions callable without parentheses <br />\n",
    "%autocall [mode] <br />\n",
    "0->Off, 1->Smart, 2->Full"
   ]
  },
  {
   "cell_type": "code",
   "execution_count": 1,
   "metadata": {},
   "outputs": [
    {
     "name": "stdout",
     "output_type": "stream",
     "text": [
      "Automatic calling is: Smart\n"
     ]
    }
   ],
   "source": [
    "%autocall"
   ]
  },
  {
   "cell_type": "code",
   "execution_count": 14,
   "metadata": {},
   "outputs": [
    {
     "name": "stdout",
     "output_type": "stream",
     "text": [
      "------> print(1,2)\n",
      "1 2\n"
     ]
    }
   ],
   "source": [
    "print 1,2"
   ]
  },
  {
   "cell_type": "markdown",
   "metadata": {},
   "source": [
    "### Syntax for bookmark \n",
    "- set bookmark to current dir `%bookmark alias_name`\n",
    "- add a bookmark `%bookmark alias_name path`\n",
    "- list the bookmark `%bookmark -l`\n",
    "- delete bookmark `%bookmark -d alias_name`\n",
    "- delete all bookmark `%bookmark -r`\n",
    "- get bookmark `%cd alias_name`"
   ]
  },
  {
   "cell_type": "code",
   "execution_count": 41,
   "metadata": {},
   "outputs": [],
   "source": [
    "%bookmark a 'C:\\Downloads'"
   ]
  },
  {
   "cell_type": "code",
   "execution_count": 42,
   "metadata": {},
   "outputs": [
    {
     "name": "stdout",
     "output_type": "stream",
     "text": [
      "Current bookmarks:\n",
      "a -> 'C:\\Downloads'\n"
     ]
    }
   ],
   "source": [
    "%bookmark -l"
   ]
  },
  {
   "cell_type": "markdown",
   "metadata": {},
   "source": [
    "### Change Current Working Directory\n",
    "- change to directory `%cd dir`\n",
    "- change to last visited directory `%cd -`\n",
    "- change to last n visited directory `%cd -<n>`\n",
    "- change to last matched foo directory `%cd -foo`\n",
    "- change to bookmark `%cd alias_name`\n",
    "- quiet change directory `%cd -q dir`"
   ]
  },
  {
   "cell_type": "code",
   "execution_count": 43,
   "metadata": {},
   "outputs": [
    {
     "name": "stdout",
     "output_type": "stream",
     "text": [
      "(bookmark:a) -> 'C:\\Downloads'\n",
      "[WinError 123] 檔案名稱、目錄名稱或磁碟區標籤語法錯誤。: \"'C:\\\\Downloads'\"\n",
      "C:\\Users\\Pat\\Documents\\My_Repo\n"
     ]
    }
   ],
   "source": [
    "%cd a"
   ]
  },
  {
   "cell_type": "markdown",
   "metadata": {},
   "source": [
    "### Switch color scheme for prompts, info system and exception handlers???\n",
    "- Choice of color... NoColor, Linux, LightBG."
   ]
  },
  {
   "cell_type": "code",
   "execution_count": 56,
   "metadata": {},
   "outputs": [],
   "source": [
    "%colors LightBG"
   ]
  },
  {
   "cell_type": "code",
   "execution_count": 61,
   "metadata": {},
   "outputs": [
    {
     "name": "stdout",
     "output_type": "stream",
     "text": [
      "Available objects for config:\n",
      "     AliasManager\n",
      "     DisplayFormatter\n",
      "     HistoryManager\n",
      "     IPCompleter\n",
      "     IPKernelApp\n",
      "     LoggingMagics\n",
      "     MagicsManager\n",
      "     OSMagics\n",
      "     PrefilterManager\n",
      "     ScriptMagics\n",
      "     StoreMagics\n",
      "     ZMQInteractiveShell\n"
     ]
    }
   ],
   "source": [
    "%config"
   ]
  },
  {
   "cell_type": "code",
   "execution_count": 62,
   "metadata": {},
   "outputs": [
    {
     "name": "stdout",
     "output_type": "stream",
     "text": [
      "> \u001b[0;32mc:\\users\\pat\\anaconda3\\lib\\site-packages\\ipython\\core\\magics\\packaging.py\u001b[0m(85)\u001b[0;36mconda\u001b[0;34m()\u001b[0m\n",
      "\u001b[0;32m     83 \u001b[0;31m        \u001b[0mconda\u001b[0m \u001b[0;34m=\u001b[0m \u001b[0m_get_conda_executable\u001b[0m\u001b[0;34m(\u001b[0m\u001b[0;34m)\u001b[0m\u001b[0;34m\u001b[0m\u001b[0;34m\u001b[0m\u001b[0m\n",
      "\u001b[0m\u001b[0;32m     84 \u001b[0;31m        \u001b[0margs\u001b[0m \u001b[0;34m=\u001b[0m \u001b[0mshlex\u001b[0m\u001b[0;34m.\u001b[0m\u001b[0msplit\u001b[0m\u001b[0;34m(\u001b[0m\u001b[0mline\u001b[0m\u001b[0;34m)\u001b[0m\u001b[0;34m\u001b[0m\u001b[0;34m\u001b[0m\u001b[0m\n",
      "\u001b[0m\u001b[0;32m---> 85 \u001b[0;31m        \u001b[0mcommand\u001b[0m \u001b[0;34m=\u001b[0m \u001b[0margs\u001b[0m\u001b[0;34m[\u001b[0m\u001b[0;36m0\u001b[0m\u001b[0;34m]\u001b[0m\u001b[0;34m\u001b[0m\u001b[0;34m\u001b[0m\u001b[0m\n",
      "\u001b[0m\u001b[0;32m     86 \u001b[0;31m        \u001b[0margs\u001b[0m \u001b[0;34m=\u001b[0m \u001b[0margs\u001b[0m\u001b[0;34m[\u001b[0m\u001b[0;36m1\u001b[0m\u001b[0;34m:\u001b[0m\u001b[0;34m]\u001b[0m\u001b[0;34m\u001b[0m\u001b[0;34m\u001b[0m\u001b[0m\n",
      "\u001b[0m\u001b[0;32m     87 \u001b[0;31m        \u001b[0mextra_args\u001b[0m \u001b[0;34m=\u001b[0m \u001b[0;34m[\u001b[0m\u001b[0;34m]\u001b[0m\u001b[0;34m\u001b[0m\u001b[0;34m\u001b[0m\u001b[0m\n",
      "\u001b[0m\n",
      "ipdb> \n",
      "ipdb> \n",
      "ipdb> \n",
      "ipdb> d\n",
      "*** Newest frame\n",
      "ipdb> xx\n",
      "*** NameError: name 'xx' is not defined\n",
      "ipdb> a\n",
      "self = <IPython.core.magics.packaging.PackagingMagics object at 0x000002361A484F60>\n",
      "line = ''\n",
      "ipdb> q\n"
     ]
    }
   ],
   "source": [
    "%debug"
   ]
  },
  {
   "cell_type": "code",
   "execution_count": 63,
   "metadata": {},
   "outputs": [
    {
     "data": {
      "text/plain": [
       "[]"
      ]
     },
     "execution_count": 63,
     "metadata": {},
     "output_type": "execute_result"
    }
   ],
   "source": [
    "%dirs"
   ]
  },
  {
   "cell_type": "code",
   "execution_count": 66,
   "metadata": {},
   "outputs": [
    {
     "name": "stdout",
     "output_type": "stream",
     "text": [
      "Exception reporting mode: Plain\n",
      "Doctest mode is: ON\n"
     ]
    }
   ],
   "source": [
    "%doctest_mode"
   ]
  },
  {
   "cell_type": "code",
   "execution_count": 73,
   "metadata": {},
   "outputs": [
    {
     "name": "stdout",
     "output_type": "stream",
     "text": [
      "IPython will make a temporary file named: C:\\Users\\Pat\\AppData\\Local\\Temp\\ipython_edit_ip2p7uhl\\ipython_edit_s_we6vqf.py\n"
     ]
    }
   ],
   "source": [
    "%edit"
   ]
  },
  {
   "cell_type": "code",
   "execution_count": 79,
   "metadata": {},
   "outputs": [
    {
     "name": "stderr",
     "output_type": "stream",
     "text": [
      "UsageError: Missing module name.\n"
     ]
    }
   ],
   "source": [
    "# %load -r 1 http://www.google.com\n",
    "%load_ext"
   ]
  },
  {
   "cell_type": "code",
   "execution_count": 26,
   "metadata": {},
   "outputs": [
    {
     "data": {
      "text/plain": [
       "'C:\\\\ProgramData'"
      ]
     },
     "execution_count": 26,
     "metadata": {},
     "output_type": "execute_result"
    }
   ],
   "source": [
    "%env ALLUSERSPROFILE"
   ]
  },
  {
   "cell_type": "markdown",
   "metadata": {},
   "source": [
    "### History of this Notebook Execute"
   ]
  },
  {
   "cell_type": "code",
   "execution_count": 8,
   "metadata": {},
   "outputs": [
    {
     "name": "stdout",
     "output_type": "stream",
     "text": [
      "%env\n",
      "%env X a\n",
      "X\n",
      "a\n",
      "%env\n",
      "%env ALLUSERSPROFILE\n",
      "%history\n",
      "%history\n"
     ]
    }
   ],
   "source": [
    "%history"
   ]
  },
  {
   "cell_type": "markdown",
   "metadata": {},
   "source": [
    "### Installation Program"
   ]
  },
  {
   "cell_type": "code",
   "execution_count": null,
   "metadata": {},
   "outputs": [],
   "source": [
    "%conda install matplotlib"
   ]
  },
  {
   "cell_type": "code",
   "execution_count": null,
   "metadata": {},
   "outputs": [],
   "source": [
    "%pip install matplotlib"
   ]
  },
  {
   "cell_type": "markdown",
   "metadata": {},
   "source": [
    "### Directory"
   ]
  },
  {
   "cell_type": "code",
   "execution_count": null,
   "metadata": {},
   "outputs": [],
   "source": [
    "%pwd"
   ]
  },
  {
   "cell_type": "code",
   "execution_count": null,
   "metadata": {},
   "outputs": [],
   "source": [
    "%dirs"
   ]
  },
  {
   "cell_type": "code",
   "execution_count": null,
   "metadata": {},
   "outputs": [],
   "source": [
    "%dhist"
   ]
  },
  {
   "cell_type": "markdown",
   "metadata": {},
   "source": [
    "### Bash/Directory Manipulation"
   ]
  },
  {
   "cell_type": "code",
   "execution_count": 1,
   "metadata": {},
   "outputs": [
    {
     "name": "stdout",
     "output_type": "stream",
     "text": [
      "Total number of aliases: 8\n"
     ]
    },
    {
     "data": {
      "text/plain": [
       "[('copy', 'copy'),\n",
       " ('ddir', 'dir /ad /on'),\n",
       " ('echo', 'echo'),\n",
       " ('ldir', 'dir /ad /on'),\n",
       " ('ls', 'dir /on'),\n",
       " ('mkdir', 'mkdir'),\n",
       " ('ren', 'ren'),\n",
       " ('rmdir', 'rmdir')]"
      ]
     },
     "execution_count": 1,
     "metadata": {},
     "output_type": "execute_result"
    }
   ],
   "source": [
    "%alias "
   ]
  },
  {
   "cell_type": "code",
   "execution_count": 2,
   "metadata": {},
   "outputs": [],
   "source": [
    "%bookmark a 'C:\\Downloads'"
   ]
  },
  {
   "cell_type": "code",
   "execution_count": 3,
   "metadata": {},
   "outputs": [
    {
     "name": "stdout",
     "output_type": "stream",
     "text": [
      "(bookmark:a) -> 'C:\\Downloads'\n",
      "[WinError 123] 檔案名稱、目錄名稱或磁碟區標籤語法錯誤。: \"'C:\\\\Downloads'\"\n",
      "C:\\Users\\Pat\\Documents\\My_Repo\n"
     ]
    }
   ],
   "source": [
    "%cd a"
   ]
  },
  {
   "cell_type": "code",
   "execution_count": 6,
   "metadata": {},
   "outputs": [
    {
     "data": {
      "text/plain": [
       "'C:\\\\ProgramData'"
      ]
     },
     "execution_count": 6,
     "metadata": {},
     "output_type": "execute_result"
    }
   ],
   "source": [
    "%env ALLUSERSPROFILE"
   ]
  },
  {
   "cell_type": "markdown",
   "metadata": {},
   "source": [
    "### Notebook Related"
   ]
  },
  {
   "cell_type": "code",
   "execution_count": 28,
   "metadata": {},
   "outputs": [
    {
     "name": "stdout",
     "output_type": "stream",
     "text": [
      " \u001b[0mpprint\u001b[0m\u001b[1;33m.\u001b[0m\u001b[0mpprint\u001b[0m\u001b[1;33m(\u001b[0m\u001b[1;33m\n",
      "\u001b[0m    \u001b[0mobject\u001b[0m\u001b[1;33m,\u001b[0m\u001b[1;33m\n",
      "\u001b[0m    \u001b[0mstream\u001b[0m\u001b[1;33m=\u001b[0m\u001b[1;32mNone\u001b[0m\u001b[1;33m,\u001b[0m\u001b[1;33m\n",
      "\u001b[0m    \u001b[0mindent\u001b[0m\u001b[1;33m=\u001b[0m\u001b[1;36m1\u001b[0m\u001b[1;33m,\u001b[0m\u001b[1;33m\n",
      "\u001b[0m    \u001b[0mwidth\u001b[0m\u001b[1;33m=\u001b[0m\u001b[1;36m80\u001b[0m\u001b[1;33m,\u001b[0m\u001b[1;33m\n",
      "\u001b[0m    \u001b[0mdepth\u001b[0m\u001b[1;33m=\u001b[0m\u001b[1;32mNone\u001b[0m\u001b[1;33m,\u001b[0m\u001b[1;33m\n",
      "\u001b[0m    \u001b[1;33m*\u001b[0m\u001b[1;33m,\u001b[0m\u001b[1;33m\n",
      "\u001b[0m    \u001b[0mcompact\u001b[0m\u001b[1;33m=\u001b[0m\u001b[1;32mFalse\u001b[0m\u001b[1;33m,\u001b[0m\u001b[1;33m\n",
      "\u001b[0m\u001b[1;33m)\u001b[0m\u001b[1;33m\u001b[0m\u001b[1;33m\u001b[0m\u001b[0m\n",
      " "
     ]
    }
   ],
   "source": [
    "import pprint\n",
    "## Explaining a Function\n",
    "%pdef pprint.pprint"
   ]
  },
  {
   "cell_type": "code",
   "execution_count": 30,
   "metadata": {},
   "outputs": [],
   "source": [
    "## Getting docString of a function\n",
    "%pdoc print"
   ]
  },
  {
   "cell_type": "code",
   "execution_count": 16,
   "metadata": {},
   "outputs": [],
   "source": [
    "%psearch a*"
   ]
  },
  {
   "cell_type": "code",
   "execution_count": 17,
   "metadata": {},
   "outputs": [
    {
     "name": "stderr",
     "output_type": "stream",
     "text": [
      "UsageError: Missing object name.\n"
     ]
    }
   ],
   "source": [
    "%psource"
   ]
  },
  {
   "cell_type": "code",
   "execution_count": 18,
   "metadata": {},
   "outputs": [],
   "source": [
    "%rehashx"
   ]
  },
  {
   "cell_type": "code",
   "execution_count": 19,
   "metadata": {},
   "outputs": [
    {
     "name": "stderr",
     "output_type": "stream",
     "text": [
      "UsageError: Missing module name.\n"
     ]
    }
   ],
   "source": [
    "%reload_ext"
   ]
  },
  {
   "cell_type": "code",
   "execution_count": 20,
   "metadata": {},
   "outputs": [
    {
     "name": "stdout",
     "output_type": "stream",
     "text": [
      "=== Executing: ===\n",
      "%reload_ext\n",
      "=== Output: ===\n"
     ]
    },
    {
     "name": "stderr",
     "output_type": "stream",
     "text": [
      "UsageError: Missing module name.\n"
     ]
    }
   ],
   "source": [
    "%rerun"
   ]
  },
  {
   "cell_type": "code",
   "execution_count": 21,
   "metadata": {},
   "outputs": [
    {
     "name": "stdout",
     "output_type": "stream",
     "text": [
      "Once deleted, variables cannot be recovered. Proceed (y/[n])? \n",
      "Nothing done.\n"
     ]
    }
   ],
   "source": [
    "%reset"
   ]
  },
  {
   "cell_type": "code",
   "execution_count": 22,
   "metadata": {},
   "outputs": [
    {
     "name": "stdout",
     "output_type": "stream",
     "text": [
      "Once deleted, variables cannot be recovered. Proceed (y/[n])?  \n",
      "Nothing done.\n"
     ]
    }
   ],
   "source": [
    "%reset_selective"
   ]
  },
  {
   "cell_type": "code",
   "execution_count": 23,
   "metadata": {},
   "outputs": [
    {
     "name": "stdout",
     "output_type": "stream",
     "text": [
      "\n",
      "%run:\n",
      " Run the named file inside IPython as a program.\n",
      "\n",
      "Usage::\n",
      "\n",
      "  %run [-n -i -e -G]\n",
      "       [( -t [-N<N>] | -d [-b<N>] | -p [profile options] )]\n",
      "       ( -m mod | file ) [args]\n",
      "\n",
      "Parameters after the filename are passed as command-line arguments to\n",
      "the program (put in sys.argv). Then, control returns to IPython's\n",
      "prompt.\n",
      "\n",
      "This is similar to running at a system prompt ``python file args``,\n",
      "but with the advantage of giving you IPython's tracebacks, and of\n",
      "loading all variables into your interactive namespace for further use\n",
      "(unless -p is used, see below).\n",
      "\n",
      "The file is executed in a namespace initially consisting only of\n",
      "``__name__=='__main__'`` and sys.argv constructed as indicated. It thus\n",
      "sees its environment as if it were being run as a stand-alone program\n",
      "(except for sharing global objects such as previously imported\n",
      "modules). But after execution, the IPython interactive namespace gets\n",
      "updated with all variables defined in the program (except for __name__\n",
      "and sys.argv). This allows for very convenient loading of code for\n",
      "interactive work, while giving each program a 'clean sheet' to run in.\n",
      "\n",
      "Arguments are expanded using shell-like glob match.  Patterns\n",
      "'*', '?', '[seq]' and '[!seq]' can be used.  Additionally,\n",
      "tilde '~' will be expanded into user's home directory.  Unlike\n",
      "real shells, quotation does not suppress expansions.  Use\n",
      "*two* back slashes (e.g. ``\\\\*``) to suppress expansions.\n",
      "To completely disable these expansions, you can use -G flag.\n",
      "\n",
      "On Windows systems, the use of single quotes `'` when specifying \n",
      "a file is not supported. Use double quotes `\"`.\n",
      "\n",
      "Options:\n",
      "\n",
      "-n\n",
      "  __name__ is NOT set to '__main__', but to the running file's name\n",
      "  without extension (as python does under import).  This allows running\n",
      "  scripts and reloading the definitions in them without calling code\n",
      "  protected by an ``if __name__ == \"__main__\"`` clause.\n",
      "\n",
      "-i\n",
      "  run the file in IPython's namespace instead of an empty one. This\n",
      "  is useful if you are experimenting with code written in a text editor\n",
      "  which depends on variables defined interactively.\n",
      "\n",
      "-e\n",
      "  ignore sys.exit() calls or SystemExit exceptions in the script\n",
      "  being run.  This is particularly useful if IPython is being used to\n",
      "  run unittests, which always exit with a sys.exit() call.  In such\n",
      "  cases you are interested in the output of the test results, not in\n",
      "  seeing a traceback of the unittest module.\n",
      "\n",
      "-t\n",
      "  print timing information at the end of the run.  IPython will give\n",
      "  you an estimated CPU time consumption for your script, which under\n",
      "  Unix uses the resource module to avoid the wraparound problems of\n",
      "  time.clock().  Under Unix, an estimate of time spent on system tasks\n",
      "  is also given (for Windows platforms this is reported as 0.0).\n",
      "\n",
      "If -t is given, an additional ``-N<N>`` option can be given, where <N>\n",
      "must be an integer indicating how many times you want the script to\n",
      "run.  The final timing report will include total and per run results.\n",
      "\n",
      "For example (testing the script uniq_stable.py)::\n",
      "\n",
      "    In [1]: run -t uniq_stable\n",
      "\n",
      "    IPython CPU timings (estimated):\n",
      "      User  :    0.19597 s.\n",
      "      System:        0.0 s.\n",
      "\n",
      "    In [2]: run -t -N5 uniq_stable\n",
      "\n",
      "    IPython CPU timings (estimated):\n",
      "    Total runs performed: 5\n",
      "      Times :      Total       Per run\n",
      "      User  :   0.910862 s,  0.1821724 s.\n",
      "      System:        0.0 s,        0.0 s.\n",
      "\n",
      "-d\n",
      "  run your program under the control of pdb, the Python debugger.\n",
      "  This allows you to execute your program step by step, watch variables,\n",
      "  etc.  Internally, what IPython does is similar to calling::\n",
      "\n",
      "      pdb.run('execfile(\"YOURFILENAME\")')\n",
      "\n",
      "  with a breakpoint set on line 1 of your file.  You can change the line\n",
      "  number for this automatic breakpoint to be <N> by using the -bN option\n",
      "  (where N must be an integer). For example::\n",
      "\n",
      "      %run -d -b40 myscript\n",
      "\n",
      "  will set the first breakpoint at line 40 in myscript.py.  Note that\n",
      "  the first breakpoint must be set on a line which actually does\n",
      "  something (not a comment or docstring) for it to stop execution.\n",
      "\n",
      "  Or you can specify a breakpoint in a different file::\n",
      "\n",
      "      %run -d -b myotherfile.py:20 myscript\n",
      "\n",
      "  When the pdb debugger starts, you will see a (Pdb) prompt.  You must\n",
      "  first enter 'c' (without quotes) to start execution up to the first\n",
      "  breakpoint.\n",
      "\n",
      "  Entering 'help' gives information about the use of the debugger.  You\n",
      "  can easily see pdb's full documentation with \"import pdb;pdb.help()\"\n",
      "  at a prompt.\n",
      "\n",
      "-p\n",
      "  run program under the control of the Python profiler module (which\n",
      "  prints a detailed report of execution times, function calls, etc).\n",
      "\n",
      "  You can pass other options after -p which affect the behavior of the\n",
      "  profiler itself. See the docs for %prun for details.\n",
      "\n",
      "  In this mode, the program's variables do NOT propagate back to the\n",
      "  IPython interactive namespace (because they remain in the namespace\n",
      "  where the profiler executes them).\n",
      "\n",
      "  Internally this triggers a call to %prun, see its documentation for\n",
      "  details on the options available specifically for profiling.\n",
      "\n",
      "There is one special usage for which the text above doesn't apply:\n",
      "if the filename ends with .ipy[nb], the file is run as ipython script,\n",
      "just as if the commands were written on IPython prompt.\n",
      "\n",
      "-m\n",
      "  specify module name to load instead of script path. Similar to\n",
      "  the -m option for the python interpreter. Use this option last if you\n",
      "  want to combine with other %run options. Unlike the python interpreter\n",
      "  only source modules are allowed no .pyc or .pyo files.\n",
      "  For example::\n",
      "\n",
      "      %run -m example\n",
      "\n",
      "  will run the example module.\n",
      "\n",
      "-G\n",
      "  disable shell-like glob expansion of arguments.\n"
     ]
    },
    {
     "name": "stderr",
     "output_type": "stream",
     "text": [
      "C:\\Users\\Pat\\Anaconda3\\lib\\site-packages\\IPython\\core\\magics\\execution.py:699: UserWarning: you must provide at least a filename.\n",
      "  warn('you must provide at least a filename.')\n"
     ]
    }
   ],
   "source": [
    "%run"
   ]
  },
  {
   "cell_type": "code",
   "execution_count": 24,
   "metadata": {},
   "outputs": [
    {
     "name": "stderr",
     "output_type": "stream",
     "text": [
      "UsageError: Missing filename.\n"
     ]
    }
   ],
   "source": [
    "%save"
   ]
  },
  {
   "cell_type": "code",
   "execution_count": 25,
   "metadata": {},
   "outputs": [
    {
     "data": {
      "text/plain": [
       "''"
      ]
     },
     "execution_count": 25,
     "metadata": {},
     "output_type": "execute_result"
    }
   ],
   "source": [
    "%sc"
   ]
  },
  {
   "cell_type": "code",
   "execution_count": 11,
   "metadata": {},
   "outputs": [
    {
     "data": {
      "text/plain": [
       "[]"
      ]
     },
     "execution_count": 11,
     "metadata": {},
     "output_type": "execute_result"
    }
   ],
   "source": [
    "%sx"
   ]
  },
  {
   "cell_type": "code",
   "execution_count": 16,
   "metadata": {},
   "outputs": [
    {
     "data": {
      "text/plain": [
       "[' Volume in drive C is OS',\n",
       " ' Volume Serial Number is 8C26-FC49',\n",
       " '',\n",
       " ' Directory of C:\\\\Users\\\\Pat\\\\Documents\\\\My_Repo',\n",
       " '',\n",
       " '2019/10/18  上午 12:07    <DIR>          .',\n",
       " '2019/10/18  上午 12:07    <DIR>          ..',\n",
       " '2019/10/15  上午 12:08                45 .gitignore',\n",
       " '2019/10/15  下午 11:07    <DIR>          .ipynb_checkpoints',\n",
       " '2019/10/18  上午 12:07            97,581 Explore Spark Magic.ipynb',\n",
       " '2019/10/15  上午 12:08    <DIR>          File_load',\n",
       " '2019/10/17  下午 11:50             2,960 ipython_log.py',\n",
       " '2019/10/15  下午 10:46             7,336 Pyspark Data Checking.ipynb',\n",
       " '2019/10/15  上午 12:08                31 README.md',\n",
       " '               5 File(s)        107,953 bytes',\n",
       " '               4 Dir(s)  61,686,468,608 bytes free']"
      ]
     },
     "execution_count": 16,
     "metadata": {},
     "output_type": "execute_result"
    }
   ],
   "source": [
    "!!dir"
   ]
  },
  {
   "cell_type": "code",
   "execution_count": 28,
   "metadata": {},
   "outputs": [
    {
     "data": {
      "text/plain": [
       "[]"
      ]
     },
     "execution_count": 28,
     "metadata": {},
     "output_type": "execute_result"
    }
   ],
   "source": [
    "%system"
   ]
  },
  {
   "cell_type": "code",
   "execution_count": 29,
   "metadata": {},
   "outputs": [
    {
     "name": "stderr",
     "output_type": "stream",
     "text": [
      "UsageError: usage is 'set_env var=val'\n"
     ]
    }
   ],
   "source": [
    "%tb"
   ]
  },
  {
   "cell_type": "code",
   "execution_count": 30,
   "metadata": {},
   "outputs": [
    {
     "name": "stdout",
     "output_type": "stream",
     "text": [
      "Wall time: 0 ns\n"
     ]
    }
   ],
   "source": [
    "%time"
   ]
  },
  {
   "cell_type": "code",
   "execution_count": 31,
   "metadata": {},
   "outputs": [],
   "source": [
    "%timeit"
   ]
  },
  {
   "cell_type": "code",
   "execution_count": 32,
   "metadata": {},
   "outputs": [
    {
     "name": "stdout",
     "output_type": "stream",
     "text": [
      " is not an alias\n"
     ]
    }
   ],
   "source": [
    "%unalias"
   ]
  },
  {
   "cell_type": "code",
   "execution_count": 33,
   "metadata": {},
   "outputs": [
    {
     "name": "stderr",
     "output_type": "stream",
     "text": [
      "UsageError: Missing module name.\n"
     ]
    }
   ],
   "source": [
    "%unload_ext"
   ]
  },
  {
   "cell_type": "code",
   "execution_count": 34,
   "metadata": {},
   "outputs": [
    {
     "name": "stdout",
     "output_type": "stream",
     "text": [
      "pprint\t \n"
     ]
    }
   ],
   "source": [
    "%who"
   ]
  },
  {
   "cell_type": "code",
   "execution_count": 35,
   "metadata": {},
   "outputs": [
    {
     "data": {
      "text/plain": [
       "['pprint']"
      ]
     },
     "execution_count": 35,
     "metadata": {},
     "output_type": "execute_result"
    }
   ],
   "source": [
    "%who_ls"
   ]
  },
  {
   "cell_type": "code",
   "execution_count": 36,
   "metadata": {},
   "outputs": [
    {
     "name": "stdout",
     "output_type": "stream",
     "text": [
      "Variable   Type      Data/Info\n",
      "------------------------------\n",
      "pprint     module    <module 'pprint' from 'C:<...>aconda3\\\\lib\\\\pprint.py'>\n"
     ]
    }
   ],
   "source": [
    "%whos"
   ]
  },
  {
   "cell_type": "code",
   "execution_count": 37,
   "metadata": {},
   "outputs": [
    {
     "name": "stdout",
     "output_type": "stream",
     "text": [
      "NameError: name '' is not defined\n"
     ]
    }
   ],
   "source": [
    "%xdel"
   ]
  },
  {
   "cell_type": "code",
   "execution_count": 38,
   "metadata": {},
   "outputs": [
    {
     "name": "stdout",
     "output_type": "stream",
     "text": [
      "Exception reporting mode: Verbose\n"
     ]
    }
   ],
   "source": [
    "%xmode"
   ]
  },
  {
   "cell_type": "code",
   "execution_count": null,
   "metadata": {},
   "outputs": [],
   "source": []
  },
  {
   "cell_type": "code",
   "execution_count": null,
   "metadata": {},
   "outputs": [],
   "source": []
  },
  {
   "cell_type": "markdown",
   "metadata": {},
   "source": [
    "### Spark Magic Manipulation"
   ]
  },
  {
   "cell_type": "code",
   "execution_count": 39,
   "metadata": {},
   "outputs": [
    {
     "name": "stdout",
     "output_type": "stream",
     "text": [
      "\n",
      "Automagic is OFF, % prefix IS needed for line magics.\n"
     ]
    }
   ],
   "source": [
    "%automagic"
   ]
  },
  {
   "cell_type": "code",
   "execution_count": 40,
   "metadata": {},
   "outputs": [
    {
     "name": "stderr",
     "output_type": "stream",
     "text": [
      "UsageError: the following arguments are required: name, target\n"
     ]
    }
   ],
   "source": [
    "%alias_magic"
   ]
  },
  {
   "cell_type": "code",
   "execution_count": 41,
   "metadata": {},
   "outputs": [
    {
     "name": "stdout",
     "output_type": "stream",
     "text": [
      "Automatic calling is: Smart\n"
     ]
    }
   ],
   "source": [
    "%autocall"
   ]
  },
  {
   "cell_type": "code",
   "execution_count": 42,
   "metadata": {},
   "outputs": [
    {
     "data": {
      "application/json": {
       "cell": {
        "!": "OSMagics",
        "HTML": "Other",
        "SVG": "Other",
        "bash": "Other",
        "capture": "ExecutionMagics",
        "cmd": "Other",
        "debug": "ExecutionMagics",
        "file": "Other",
        "html": "DisplayMagics",
        "javascript": "DisplayMagics",
        "js": "DisplayMagics",
        "latex": "DisplayMagics",
        "markdown": "DisplayMagics",
        "perl": "Other",
        "prun": "ExecutionMagics",
        "pypy": "Other",
        "python": "Other",
        "python2": "Other",
        "python3": "Other",
        "ruby": "Other",
        "script": "ScriptMagics",
        "sh": "Other",
        "svg": "DisplayMagics",
        "sx": "OSMagics",
        "system": "OSMagics",
        "time": "ExecutionMagics",
        "timeit": "ExecutionMagics",
        "writefile": "OSMagics"
       },
       "line": {
        "2to3": "Other",
        "_conda": "Other",
        "agentactivationruntimestarter": "Other",
        "aitstatic": "Other",
        "alg": "Other",
        "alias": "OSMagics",
        "alias_magic": "BasicMagics",
        "anaconda": "Other",
        "anaconda-navigator": "Other",
        "anaconda-project": "Other",
        "apphostregistrationverifier": "Other",
        "appidcertstorecheck": "Other",
        "appidpolicyconverter": "Other",
        "appidtel": "Other",
        "applicationframehost": "Other",
        "applytrustoffline": "Other",
        "approvechildrequest": "Other",
        "arp": "Other",
        "asadmin": "Other",
        "assistant": "Other",
        "at": "Other",
        "atbroker": "Other",
        "attrib": "Other",
        "audiodg": "Other",
        "auditpol": "Other",
        "authhost": "Other",
        "autoawait": "AsyncMagics",
        "autocall": "AutoMagics",
        "autochk": "Other",
        "autoconv": "Other",
        "autofmt": "Other",
        "automagic": "AutoMagics",
        "autosave": "KernelMagics",
        "avgboot": "Other",
        "axinstui": "Other",
        "backgroundtaskhost": "Other",
        "backgroundtransferhost": "Other",
        "bcdboot": "Other",
        "bcdedit": "Other",
        "bdeuisrv": "Other",
        "bdeunlock": "Other",
        "bfsvc": "Other",
        "bioiso": "Other",
        "bitlockerdeviceencryption": "Other",
        "bitlockerwizardelev": "Other",
        "bitsadmin": "Other",
        "bokeh": "Other",
        "bookmark": "OSMagics",
        "bootcfg": "Other",
        "bootim": "Other",
        "bootsect": "Other",
        "bridgeunattend": "Other",
        "browser_broker": "Other",
        "browserexport": "Other",
        "bsdcat": "Other",
        "bsdcpio": "Other",
        "bsdtar": "Other",
        "bthudtask": "Other",
        "bundle_image": "Other",
        "bytecodegenerator": "Other",
        "cacls": "Other",
        "calc": "Other",
        "camerasettingsuihost": "Other",
        "canbusutil": "Other",
        "castsrv": "Other",
        "ccapiserver": "Other",
        "cd": "OSMagics",
        "certenrollctrl": "Other",
        "certreq": "Other",
        "certutil": "Other",
        "cfadmin": "Other",
        "changepk": "Other",
        "chardetect": "Other",
        "charmap": "Other",
        "checknetisolation": "Other",
        "chkdsk": "Other",
        "chkntfs": "Other",
        "choice": "Other",
        "cidiag": "Other",
        "cipher": "Other",
        "cjpeg": "Other",
        "cleanmgr": "Other",
        "clear": "KernelMagics",
        "cliconfg": "Other",
        "clip": "Other",
        "cliprenew": "Other",
        "clipup": "Other",
        "cloudexperiencehostbroker": "Other",
        "cloudnotifications": "Other",
        "cls": "KernelMagics",
        "cmd": "Other",
        "cmdkey": "Other",
        "cmdl32": "Other",
        "cmmon32": "Other",
        "cmstp": "Other",
        "cofire": "Other",
        "colorcpl": "Other",
        "colors": "BasicMagics",
        "comp": "Other",
        "compact": "Other",
        "compattelrunner": "Other",
        "compmgmtlauncher": "Other",
        "comppkgsrv": "Other",
        "computerdefaults": "Other",
        "conda": "PackagingMagics",
        "conda-build": "Other",
        "conda-convert": "Other",
        "conda-debug": "Other",
        "conda-develop": "Other",
        "conda-env": "Other",
        "conda-index": "Other",
        "conda-inspect": "Other",
        "conda-metapackage": "Other",
        "conda-render": "Other",
        "conda-server": "Other",
        "conda-skeleton": "Other",
        "conda-verify": "Other",
        "config": "ConfigMagics",
        "conhost": "Other",
        "connect_info": "KernelMagics",
        "consent": "Other",
        "control": "Other",
        "convert": "Other",
        "convertvhd": "Other",
        "copy": "Other",
        "coredpussvr": "Other",
        "cph": "Other",
        "cq": "Other",
        "credentialenrollmentmanager": "Other",
        "credentialuibroker": "Other",
        "credwiz": "Other",
        "cscript": "Other",
        "csrss": "Other",
        "ctfmon": "Other",
        "cttune": "Other",
        "cttunesvr": "Other",
        "curl": "Other",
        "custominstallexec": "Other",
        "cwutil": "Other",
        "cygdb": "Other",
        "cython": "Other",
        "cythonize": "Other",
        "dashost": "Other",
        "dask-mpi": "Other",
        "dask-remote": "Other",
        "dask-scheduler": "Other",
        "dask-ssh": "Other",
        "dask-submit": "Other",
        "dask-worker": "Other",
        "dataexchangehost": "Other",
        "datastorecachedumptool": "Other",
        "datausagelivetiletask": "Other",
        "dccw": "Other",
        "dcomcnfg": "Other",
        "ddir": "Other",
        "ddodiag": "Other",
        "debug": "ExecutionMagics",
        "defrag": "Other",
        "deploymentcsphelper": "Other",
        "derb": "Other",
        "designer": "Other",
        "desktopimgdownldr": "Other",
        "devicecensus": "Other",
        "devicecredentialdeployment": "Other",
        "deviceeject": "Other",
        "deviceenroller": "Other",
        "devicepairingwizard": "Other",
        "deviceproperties": "Other",
        "dfdwiz": "Other",
        "dfrgui": "Other",
        "dhist": "OSMagics",
        "dialer": "Other",
        "directxdatabaseupdater": "Other",
        "dirs": "OSMagics",
        "diskpart": "Other",
        "diskperf": "Other",
        "diskraid": "Other",
        "disksnapshot": "Other",
        "dism": "Other",
        "dispdiag": "Other",
        "displayswitch": "Other",
        "djoin": "Other",
        "djpeg": "Other",
        "dllhost": "Other",
        "dllhst3g": "Other",
        "dmcertinst": "Other",
        "dmcfghost": "Other",
        "dmclient": "Other",
        "dmnotificationbroker": "Other",
        "dmomacpmo": "Other",
        "dnscacheugc": "Other",
        "doctest_mode": "BasicMagics",
        "doskey": "Other",
        "dpapimig": "Other",
        "dpiscaling": "Other",
        "dpnsvr": "Other",
        "driverquery": "Other",
        "drvcfg": "Other",
        "drvinst": "Other",
        "dsmusertask": "Other",
        "dsregcmd": "Other",
        "dstokenclean": "Other",
        "dtuhandler": "Other",
        "dumpcpp": "Other",
        "dumpdoc": "Other",
        "dusmtask": "Other",
        "dvdplay": "Other",
        "dwm": "Other",
        "dwwin": "Other",
        "dxcap": "Other",
        "dxcpl": "Other",
        "dxdiag": "Other",
        "dxgiadaptercache": "Other",
        "dxpserver": "Other",
        "dynamodb_dump": "Other",
        "dynamodb_load": "Other",
        "eap3host": "Other",
        "easeofaccessdialog": "Other",
        "easinvoker": "Other",
        "easpolicymanagerbrokerhost": "Other",
        "easy_install": "Other",
        "echo": "Other",
        "ed": "Other",
        "edit": "KernelMagics",
        "edpcleanup": "Other",
        "edpnotify": "Other",
        "eduprintprov": "Other",
        "efsui": "Other",
        "ehstorauthn": "Other",
        "elbadmin": "Other",
        "env": "OSMagics",
        "epylint": "Other",
        "esentutl": "Other",
        "eudcedit": "Other",
        "eventcreate": "Other",
        "eventvwr": "Other",
        "expand": "Other",
        "explorer": "Other",
        "extrac32": "Other",
        "f2py": "Other",
        "fax2ps": "Other",
        "fax2tiff": "Other",
        "fc": "Other",
        "fetch_file": "Other",
        "fhmanagew": "Other",
        "filehistory": "Other",
        "find": "Other",
        "findstr": "Other",
        "finger": "Other",
        "fits2bitmap": "Other",
        "fitscheck": "Other",
        "fitsdiff": "Other",
        "fitsheader": "Other",
        "fitsinfo": "Other",
        "fixmapi": "Other",
        "flask": "Other",
        "fltmc": "Other",
        "fodhelper": "Other",
        "fondue": "Other",
        "fontdrvhost": "Other",
        "fontview": "Other",
        "forfiles": "Other",
        "fsavailux": "Other",
        "fsiso": "Other",
        "fsquirt": "Other",
        "fsutil": "Other",
        "ftp": "Other",
        "futurize": "Other",
        "fvenotify": "Other",
        "fxscover": "Other",
        "fxssvc": "Other",
        "fxsunatd": "Other",
        "gamebarpresencewriter": "Other",
        "gamepanel": "Other",
        "genbrk": "Other",
        "genccode": "Other",
        "gencfu": "Other",
        "gencmn": "Other",
        "gencnval": "Other",
        "gendict": "Other",
        "gennorm2": "Other",
        "genrb": "Other",
        "gensprep": "Other",
        "genvalobj": "Other",
        "getmac": "Other",
        "gif2h5": "Other",
        "git": "Other",
        "git-gui": "Other",
        "git-lfs": "Other",
        "gitk": "Other",
        "glacier": "Other",
        "gpresult": "Other",
        "gpupdate": "Other",
        "grpconv": "Other",
        "gss-client": "Other",
        "gss-server": "Other",
        "gui": "BasicMagics",
        "h52gif": "Other",
        "h5clear": "Other",
        "h5copy": "Other",
        "h5copy-shared": "Other",
        "h5debug": "Other",
        "h5diff": "Other",
        "h5diff-shared": "Other",
        "h5dump": "Other",
        "h5dump-shared": "Other",
        "h5format_convert": "Other",
        "h5import": "Other",
        "h5jam": "Other",
        "h5ls": "Other",
        "h5ls-shared": "Other",
        "h5mkgrp": "Other",
        "h5repack": "Other",
        "h5repack-shared": "Other",
        "h5repart": "Other",
        "h5stat": "Other",
        "h5stat-shared": "Other",
        "h5unjam": "Other",
        "h5watch": "Other",
        "hdwwiz": "Other",
        "help": "Other",
        "helppane": "Other",
        "hh": "Other",
        "hist": "Other",
        "history": "HistoryMagics",
        "hostname": "Other",
        "hvax64": "Other",
        "hvix64": "Other",
        "icacls": "Other",
        "icsentitlementhost": "Other",
        "icsunattend": "Other",
        "icuinfo": "Other",
        "icupkg": "Other",
        "idc": "Other",
        "idle": "Other",
        "ie4uinit": "Other",
        "ie4ushowie": "Other",
        "ieunatt": "Other",
        "iexpress": "Other",
        "immersivetpmvscmgrsvr": "Other",
        "infdefaultinstall": "Other",
        "inputswitchtoasthandler": "Other",
        "instance_events": "Other",
        "ipconfig": "Other",
        "iptest": "Other",
        "iptest3": "Other",
        "ipython": "Other",
        "ipython3": "Other",
        "iscsicli": "Other",
        "iscsicpl": "Other",
        "isoburn": "Other",
        "isort": "Other",
        "isympy": "Other",
        "jhi_service": "Other",
        "jlpm": "Other",
        "jpegtran": "Other",
        "jsonschema": "Other",
        "jupyter": "Other",
        "jupyter-bundlerextension": "Other",
        "jupyter-console": "Other",
        "jupyter-kernel": "Other",
        "jupyter-kernelspec": "Other",
        "jupyter-lab": "Other",
        "jupyter-labextension": "Other",
        "jupyter-labhub": "Other",
        "jupyter-migrate": "Other",
        "jupyter-nbconvert": "Other",
        "jupyter-nbextension": "Other",
        "jupyter-notebook": "Other",
        "jupyter-qtconsole": "Other",
        "jupyter-run": "Other",
        "jupyter-serverextension": "Other",
        "jupyter-troubleshoot": "Other",
        "jupyter-trust": "Other",
        "kcpytkt": "Other",
        "kdeltkt": "Other",
        "kdestroy": "Other",
        "keyring": "Other",
        "kfwcpcc": "Other",
        "kill_instance": "Other",
        "killbgscripts": "ScriptMagics",
        "kinit": "Other",
        "klist": "Other",
        "kpasswd": "Other",
        "krb5": "Other",
        "ksetup": "Other",
        "kswitch": "Other",
        "ktmutil": "Other",
        "kvno": "Other",
        "label": "Other",
        "languagecomponentsinstallercomhandler": "Other",
        "launch_instance": "Other",
        "launchtm": "Other",
        "launchwinapp": "Other",
        "lconvert": "Other",
        "ldir": "Other",
        "legacynetuxhost": "Other",
        "less": "KernelMagics",
        "licensemanagershellext": "Other",
        "licensingdiag": "Other",
        "licensingui": "Other",
        "linguist": "Other",
        "list_instances": "Other",
        "load": "CodeMagics",
        "load_ext": "ExtensionMagics",
        "loadpy": "CodeMagics",
        "locationnotificationwindows": "Other",
        "locator": "Other",
        "lockapphost": "Other",
        "lockscreencontentserver": "Other",
        "lodctr": "Other",
        "logagent": "Other",
        "logman": "Other",
        "logoff": "LoggingMagics",
        "logon": "LoggingMagics",
        "logonui": "Other",
        "logstart": "LoggingMagics",
        "logstate": "LoggingMagics",
        "logstop": "LoggingMagics",
        "lpkinstall": "Other",
        "lpksetup": "Other",
        "lpremove": "Other",
        "lrelease": "Other",
        "ls": "Other",
        "lsaiso": "Other",
        "lsass": "Other",
        "lsmagic": "BasicMagics",
        "lss3": "Other",
        "lupdate": "Other",
        "lz4": "Other",
        "lzmainfo": "Other",
        "macro": "ExecutionMagics",
        "magic": "BasicMagics",
        "magnify": "Other",
        "makecab": "Other",
        "makeconv": "Other",
        "manage-bde": "Other",
        "matplotlib": "PylabMagics",
        "maxxaudiometers64": "Other",
        "mbaeparsertask": "Other",
        "mblctr": "Other",
        "mbr2gpt": "Other",
        "mcbuilder": "Other",
        "mdeserver": "Other",
        "mdmagent": "Other",
        "mdmappinstaller": "Other",
        "mdmdiagnosticstool": "Other",
        "mdres": "Other",
        "mdsched": "Other",
        "menuinst": "Other",
        "mfpmp": "Other",
        "microsoftedge": "Other",
        "microsoftedgebchost": "Other",
        "microsoftedgecp": "Other",
        "microsoftedgedevtools": "Other",
        "microsoftedgesh": "Other",
        "mit2ms": "Other",
        "mitigationscanner": "Other",
        "mkdir": "Other",
        "mmc": "Other",
        "mmgaserver": "Other",
        "mobsync": "Other",
        "moc": "Other",
        "mofcomp": "Other",
        "more": "KernelMagics",
        "mountvol": "Other",
        "mousocoreworker": "Other",
        "mpnotify": "Other",
        "mrinfo": "Other",
        "mrt": "Other",
        "ms2mit": "Other",
        "mschedexe": "Other",
        "msconfig": "Other",
        "msdt": "Other",
        "msdtc": "Other",
        "msfeedssync": "Other",
        "mshta": "Other",
        "msiexec": "Other",
        "msinfo32": "Other",
        "mspaint": "Other",
        "msra": "Other",
        "msspellcheckinghost": "Other",
        "mstsc": "Other",
        "mtstocom": "Other",
        "mturk": "Other",
        "muiunattend": "Other",
        "multidigimon": "Other",
        "musnotification": "Other",
        "musnotificationux": "Other",
        "musnotifyicon": "Other",
        "narrator": "Other",
        "navigator-updater": "Other",
        "nbtstat": "Other",
        "ndadmin": "Other",
        "ndkping": "Other",
        "net": "Other",
        "net1": "Other",
        "netbtugc": "Other",
        "netcfg": "Other",
        "netcfgnotifyobjecthost": "Other",
        "netevtfwdr": "Other",
        "nethost": "Other",
        "netiougc": "Other",
        "netplwiz": "Other",
        "netsh": "Other",
        "netstat": "Other",
        "newdev": "Other",
        "ngciso": "Other",
        "nltest": "Other",
        "nosetests": "Other",
        "notebook": "BasicMagics",
        "notepad": "Other",
        "nslookup": "Other",
        "ntoskrnl": "Other",
        "ntprint": "Other",
        "numba": "Other",
        "odbcad32": "Other",
        "odbcconf": "Other",
        "ofdeploy": "Other",
        "omadmclient": "Other",
        "omadmprc": "Other",
        "openfiles": "Other",
        "openssl": "Other",
        "openwith": "Other",
        "optionalfeatures": "Other",
        "osk": "Other",
        "pacjsworker": "Other",
        "packagedcwalauncher": "Other",
        "page": "BasicMagics",
        "pageant": "Other",
        "pal2rgb": "Other",
        "pandoc": "Other",
        "pandoc-citeproc": "Other",
        "passwordonwakesettingflyout": "Other",
        "pastebin": "CodeMagics",
        "pasteurize": "Other",
        "pathping": "Other",
        "pcalua": "Other",
        "pcaui": "Other",
        "pcwrun": "Other",
        "pdb": "ExecutionMagics",
        "pdef": "NamespaceMagics",
        "pdoc": "NamespaceMagics",
        "pep8": "Other",
        "perfmon": "Other",
        "pfile": "NamespaceMagics",
        "phoneactivate": "Other",
        "pickerhost": "Other",
        "pinenrollmentbroker": "Other",
        "pinfo": "NamespaceMagics",
        "pinfo2": "NamespaceMagics",
        "ping": "Other",
        "pip": "PackagingMagics",
        "pixeltool": "Other",
        "pkgdata": "Other",
        "pkginfo": "Other",
        "pkgmgr": "Other",
        "pktmon": "Other",
        "plasrv": "Other",
        "plink": "Other",
        "png-fix-itxt": "Other",
        "pngfix": "Other",
        "pnpunattend": "Other",
        "pnputil": "Other",
        "popd": "OSMagics",
        "poqexec": "Other",
        "pospaymentsworker": "Other",
        "powercfg": "Other",
        "powershell": "Other",
        "powershell_ise": "Other",
        "ppm2tiff": "Other",
        "pprint": "BasicMagics",
        "precision": "BasicMagics",
        "presentationhost": "Other",
        "prevhost": "Other",
        "print": "Other",
        "printfilterpipelinesvc": "Other",
        "printisolationhost": "Other",
        "printui": "Other",
        "proquota": "Other",
        "provlaunch": "Other",
        "provtool": "Other",
        "proximityuxhost": "Other",
        "prproc": "Other",
        "prun": "ExecutionMagics",
        "pscp": "Other",
        "psearch": "NamespaceMagics",
        "psftp": "Other",
        "psource": "NamespaceMagics",
        "psr": "Other",
        "pt2to3": "Other",
        "ptdump": "Other",
        "ptrepack": "Other",
        "pttree": "Other",
        "pushd": "OSMagics",
        "putty": "Other",
        "puttygen": "Other",
        "pwd": "OSMagics",
        "pwlauncher": "Other",
        "py": "Other",
        "pyami_sendmail": "Other",
        "pybabel": "Other",
        "pycat": "OSMagics",
        "pycc": "Other",
        "pycodestyle": "Other",
        "pydoc": "Other",
        "pyflakes": "Other",
        "pygmentize": "Other",
        "pyjson5": "Other",
        "pylab": "PylabMagics",
        "pylint": "Other",
        "pyreverse": "Other",
        "pytest": "Other",
        "python": "Other",
        "pythonw": "Other",
        "pyw": "Other",
        "qcollectiongenerator": "Other",
        "qdbus": "Other",
        "qdbuscpp2xml": "Other",
        "qdbusviewer": "Other",
        "qdbusxml2cpp": "Other",
        "qdoc": "Other",
        "qgltf": "Other",
        "qhelpconverter": "Other",
        "qhelpgenerator": "Other",
        "qlalr": "Other",
        "qmake": "Other",
        "qml": "Other",
        "qmlcachegen": "Other",
        "qmleasing": "Other",
        "qmlimportscanner": "Other",
        "qmllint": "Other",
        "qmlmin": "Other",
        "qmlplugindump": "Other",
        "qmlprofiler": "Other",
        "qmlscene": "Other",
        "qmltestrunner": "Other",
        "qscxmlc": "Other",
        "qtattributionsscanner": "Other",
        "qtconsole": "KernelMagics",
        "qtdiag": "Other",
        "qtpaths": "Other",
        "qtplugininfo": "Other",
        "qtwebengineprocess": "Other",
        "quickassist": "Other",
        "quickref": "BasicMagics",
        "qwebengine_convert_dict": "Other",
        "rasautou": "Other",
        "rasdial": "Other",
        "raserver": "Other",
        "rasphone": "Other",
        "raw2tiff": "Other",
        "rcc": "Other",
        "rdjpgcom": "Other",
        "rdpclip": "Other",
        "rdpinput": "Other",
        "rdpsa": "Other",
        "rdpsaproxy": "Other",
        "rdpsauachelper": "Other",
        "rdrleakdiag": "Other",
        "reagentc": "Other",
        "recall": "HistoryMagics",
        "recdisc": "Other",
        "recover": "Other",
        "recoverydrive": "Other",
        "refsutil": "Other",
        "reg": "Other",
        "regedit": "Other",
        "regedt32": "Other",
        "regini": "Other",
        "register-cimprovider": "Other",
        "regsvr32": "Other",
        "rehashx": "OSMagics",
        "rekeywiz": "Other",
        "reload_ext": "ExtensionMagics",
        "relog": "Other",
        "relpost": "Other",
        "remoteposworker": "Other",
        "ren": "Other",
        "rep": "Other",
        "repair-bde": "Other",
        "repc": "Other",
        "replace": "Other",
        "rerun": "HistoryMagics",
        "reset": "NamespaceMagics",
        "reset_selective": "NamespaceMagics",
        "resetengine": "Other",
        "resmon": "Other",
        "rmactivate": "Other",
        "rmactivate_isv": "Other",
        "rmactivate_ssp": "Other",
        "rmactivate_ssp_isv": "Other",
        "rmclient": "Other",
        "rmdir": "Other",
        "rmttpmvscmgrsvr": "Other",
        "robocopy": "Other",
        "route": "Other",
        "route53": "Other",
        "rpcping": "Other",
        "rrinstaller": "Other",
        "rstrui": "Other",
        "rtcru64": "Other",
        "run": "ExecutionMagics",
        "runas": "Other",
        "rundll32": "Other",
        "runexehelper": "Other",
        "runlegacycplelevated": "Other",
        "runonce": "Other",
        "runtimebroker": "Other",
        "runxmlconf": "Other",
        "s3put": "Other",
        "samp_hub": "Other",
        "save": "CodeMagics",
        "sc": "OSMagics",
        "schtasks": "Other",
        "scp": "Other",
        "scrcons": "Other",
        "sdbadmin": "Other",
        "sdbinst": "Other",
        "sdchange": "Other",
        "sdclt": "Other",
        "sdiagnhost": "Other",
        "searchfilterhost": "Other",
        "searchindexer": "Other",
        "searchprotocolhost": "Other",
        "secedit": "Other",
        "secinit": "Other",
        "securekernel": "Other",
        "securityhealthhost": "Other",
        "securityhealthservice": "Other",
        "securityhealthsystray": "Other",
        "sensordataservice": "Other",
        "services": "Other",
        "sessionmsg": "Other",
        "set_env": "OSMagics",
        "sethc": "Other",
        "setspn": "Other",
        "settingsynchost": "Other",
        "setupcl": "Other",
        "setupugc": "Other",
        "setx": "Other",
        "sfc": "Other",
        "sftp": "Other",
        "sgrmbroker": "Other",
        "sgrmlpac": "Other",
        "showtable": "Other",
        "shrpubw": "Other",
        "shutdown": "Other",
        "sigverif": "Other",
        "sihclient": "Other",
        "sihost": "Other",
        "sip": "Other",
        "skivi": "Other",
        "slidetoshutdown": "Other",
        "slui": "Other",
        "smartscreen": "Other",
        "smss": "Other",
        "sndvol": "Other",
        "snippingtool": "Other",
        "snmptrap": "Other",
        "socketheciserver": "Other",
        "sort": "Other",
        "spaceagent": "Other",
        "spaceman": "Other",
        "spatialaudiolicensesrv": "Other",
        "spectrum": "Other",
        "sphinx-apidoc": "Other",
        "sphinx-autogen": "Other",
        "sphinx-build": "Other",
        "sphinx-quickstart": "Other",
        "splwow64": "Other",
        "spoolsv": "Other",
        "sppextcomobj": "Other",
        "sppsvc": "Other",
        "spyder": "Other",
        "spyder3": "Other",
        "sqlite3": "Other",
        "srdelayed": "Other",
        "srtasks": "Other",
        "ssh": "Other",
        "ssh-add": "Other",
        "ssh-agent": "Other",
        "ssh-keygen": "Other",
        "ssh-keyscan": "Other",
        "stordiag": "Other",
        "store": "StoreMagics",
        "subst": "Other",
        "svchost": "Other",
        "sx": "OSMagics",
        "sxstrace": "Other",
        "symilar": "Other",
        "synchost": "Other",
        "sysreseterr": "Other",
        "system": "OSMagics",
        "systeminfo": "Other",
        "systempropertiesadvanced": "Other",
        "systempropertiescomputername": "Other",
        "systempropertiesdataexecutionprevention": "Other",
        "systempropertieshardware": "Other",
        "systempropertiesperformance": "Other",
        "systempropertiesprotection": "Other",
        "systempropertiesremote": "Other",
        "systemreset": "Other",
        "systemsettingsadminflows": "Other",
        "systemsettingsbroker": "Other",
        "systemsettingsremovedevice": "Other",
        "systemuwplauncher": "Other",
        "systray": "Other",
        "tabcal": "Other",
        "takeown": "Other",
        "tapiunattend": "Other",
        "tar": "Other",
        "taskadmin": "Other",
        "taskhostw": "Other",
        "taskkill": "Other",
        "tasklist": "Other",
        "taskmgr": "Other",
        "tb": "ExecutionMagics",
        "tcblaunch": "Other",
        "tclsh": "Other",
        "tclsh86": "Other",
        "tclsh86t": "Other",
        "tcmsetup": "Other",
        "tcpsvcs": "Other",
        "testcon": "Other",
        "thumbnailextractionhost": "Other",
        "tieringengineservice": "Other",
        "tiff2bw": "Other",
        "tiff2pdf": "Other",
        "tiff2ps": "Other",
        "tiff2rgba": "Other",
        "tiffcmp": "Other",
        "tiffcp": "Other",
        "tiffcrop": "Other",
        "tiffdither": "Other",
        "tiffdump": "Other",
        "tiffinfo": "Other",
        "tiffmedian": "Other",
        "tiffset": "Other",
        "tiffsplit": "Other",
        "time": "ExecutionMagics",
        "timeit": "ExecutionMagics",
        "timeout": "Other",
        "tokenbrokercookies": "Other",
        "tpminit": "Other",
        "tpmvscmgr": "Other",
        "tpmvscmgrsvr": "Other",
        "tqdm": "Other",
        "tracerpt": "Other",
        "tracert": "Other",
        "tstheme": "Other",
        "tswbprxy": "Other",
        "tswpfwrp": "Other",
        "ttdinject": "Other",
        "tttracer": "Other",
        "typeperf": "Other",
        "tzsync": "Other",
        "tzutil": "Other",
        "uconv": "Other",
        "ucsvc": "Other",
        "uic": "Other",
        "uimgrbroker": "Other",
        "unalias": "OSMagics",
        "uninstall-anaconda3": "Other",
        "unload_ext": "ExtensionMagics",
        "unlodctr": "Other",
        "unregmp2": "Other",
        "unsecapp": "Other",
        "unxz": "Other",
        "upfc": "Other",
        "upgraderesultsui": "Other",
        "upnpcont": "Other",
        "useraccountbroker": "Other",
        "useraccountcontrolsettings": "Other",
        "userinit": "Other",
        "usoclient": "Other",
        "usocoreworker": "Other",
        "utilman": "Other",
        "vaultcmd": "Other",
        "vds": "Other",
        "vdsldr": "Other",
        "verclsid": "Other",
        "verifier": "Other",
        "verifiergui": "Other",
        "volint": "Other",
        "vsgraphicsdesktopengine": "Other",
        "vsgraphicsremoteengine": "Other",
        "vssadmin": "Other",
        "vssvc": "Other",
        "vulkaninfo": "Other",
        "vulkaninfo-1-1-0-33-0": "Other",
        "vulkaninfo-1-999-0-0-0": "Other",
        "w32tm": "Other",
        "waasmedicagent": "Other",
        "waitfor": "Other",
        "wallpaperhost": "Other",
        "wbadmin": "Other",
        "wbemtest": "Other",
        "wbengine": "Other",
        "wcslint": "Other",
        "wecutil": "Other",
        "werfault": "Other",
        "werfaultsecure": "Other",
        "wermgr": "Other",
        "wevtutil": "Other",
        "wextract": "Other",
        "wfs": "Other",
        "wheel": "Other",
        "where": "Other",
        "who": "NamespaceMagics",
        "who_ls": "NamespaceMagics",
        "whoami": "Other",
        "whos": "NamespaceMagics",
        "wiaacmgr": "Other",
        "wiawow64": "Other",
        "wifitask": "Other",
        "wimserv": "Other",
        "winbiodatamodeloobe": "Other",
        "windeployqt": "Other",
        "windowsactiondialog": "Other",
        "windowsmediabackgroundplayback": "Other",
        "windowsupdateelevatedinstaller": "Other",
        "windowswarpjitservice": "Other",
        "winhlp32": "Other",
        "wininit": "Other",
        "winload": "Other",
        "winlogon": "Other",
        "winmgmt": "Other",
        "winpty-agent": "Other",
        "winresume": "Other",
        "winrs": "Other",
        "winrshost": "Other",
        "winrtnetmuahostserver": "Other",
        "winsat": "Other",
        "winver": "Other",
        "wish": "Other",
        "wish86": "Other",
        "wish86t": "Other",
        "wkspbroker": "Other",
        "wksprt": "Other",
        "wlanext": "Other",
        "wlrmdr": "Other",
        "wmiadap": "Other",
        "wmiapsrv": "Other",
        "wmic": "Other",
        "wmiprvse": "Other",
        "wmpdmc": "Other",
        "workfolders": "Other",
        "wowreg32": "Other",
        "wpcmon": "Other",
        "wpctok": "Other",
        "wpdshextautoplay": "Other",
        "wpnpinst": "Other",
        "wpr": "Other",
        "write": "Other",
        "wrjpgcom": "Other",
        "wscadminui": "Other",
        "wscollect": "Other",
        "wscript": "Other",
        "wsmanhttpconfig": "Other",
        "wsmprovhost": "Other",
        "wsqmcons": "Other",
        "wsreset": "Other",
        "wuapihost": "Other",
        "wuauclt": "Other",
        "wudfcompanionhost": "Other",
        "wudfhost": "Other",
        "wusa": "Other",
        "wwahost": "Other",
        "xblgamesavetask": "Other",
        "xcopy": "Other",
        "xdel": "NamespaceMagics",
        "xlwings": "Other",
        "xmlcatalog": "Other",
        "xmllint": "Other",
        "xmlpatterns": "Other",
        "xmlpatternsvalidator": "Other",
        "xmode": "BasicMagics",
        "xpsrchvw": "Other",
        "xsltproc": "Other",
        "xwizard": "Other",
        "xz": "Other",
        "xz_static": "Other",
        "zstd": "Other"
       }
      },
      "text/plain": [
       "Available line magics:\n",
       "%2to3  %_conda  %agentactivationruntimestarter  %aitstatic  %alg  %alias  %alias_magic  %anaconda  %anaconda-navigator  %anaconda-project  %apphostregistrationverifier  %appidcertstorecheck  %appidpolicyconverter  %appidtel  %applicationframehost  %applytrustoffline  %approvechildrequest  %arp  %asadmin  %assistant  %at  %atbroker  %attrib  %audiodg  %auditpol  %authhost  %autoawait  %autocall  %autochk  %autoconv  %autofmt  %automagic  %autosave  %avgboot  %axinstui  %backgroundtaskhost  %backgroundtransferhost  %bcdboot  %bcdedit  %bdeuisrv  %bdeunlock  %bfsvc  %bioiso  %bitlockerdeviceencryption  %bitlockerwizardelev  %bitsadmin  %bokeh  %bookmark  %bootcfg  %bootim  %bootsect  %bridgeunattend  %browser_broker  %browserexport  %bsdcat  %bsdcpio  %bsdtar  %bthudtask  %bundle_image  %bytecodegenerator  %cacls  %calc  %camerasettingsuihost  %canbusutil  %castsrv  %ccapiserver  %cd  %certenrollctrl  %certreq  %certutil  %cfadmin  %changepk  %chardetect  %charmap  %checknetisolation  %chkdsk  %chkntfs  %choice  %cidiag  %cipher  %cjpeg  %cleanmgr  %clear  %cliconfg  %clip  %cliprenew  %clipup  %cloudexperiencehostbroker  %cloudnotifications  %cls  %cmd  %cmdkey  %cmdl32  %cmmon32  %cmstp  %cofire  %colorcpl  %colors  %comp  %compact  %compattelrunner  %compmgmtlauncher  %comppkgsrv  %computerdefaults  %conda  %conda-build  %conda-convert  %conda-debug  %conda-develop  %conda-env  %conda-index  %conda-inspect  %conda-metapackage  %conda-render  %conda-server  %conda-skeleton  %conda-verify  %config  %conhost  %connect_info  %consent  %control  %convert  %convertvhd  %copy  %coredpussvr  %cph  %cq  %credentialenrollmentmanager  %credentialuibroker  %credwiz  %cscript  %csrss  %ctfmon  %cttune  %cttunesvr  %curl  %custominstallexec  %cwutil  %cygdb  %cython  %cythonize  %dashost  %dask-mpi  %dask-remote  %dask-scheduler  %dask-ssh  %dask-submit  %dask-worker  %dataexchangehost  %datastorecachedumptool  %datausagelivetiletask  %dccw  %dcomcnfg  %ddir  %ddodiag  %debug  %defrag  %deploymentcsphelper  %derb  %designer  %desktopimgdownldr  %devicecensus  %devicecredentialdeployment  %deviceeject  %deviceenroller  %devicepairingwizard  %deviceproperties  %dfdwiz  %dfrgui  %dhist  %dialer  %directxdatabaseupdater  %dirs  %diskpart  %diskperf  %diskraid  %disksnapshot  %dism  %dispdiag  %displayswitch  %djoin  %djpeg  %dllhost  %dllhst3g  %dmcertinst  %dmcfghost  %dmclient  %dmnotificationbroker  %dmomacpmo  %dnscacheugc  %doctest_mode  %doskey  %dpapimig  %dpiscaling  %dpnsvr  %driverquery  %drvcfg  %drvinst  %dsmusertask  %dsregcmd  %dstokenclean  %dtuhandler  %dumpcpp  %dumpdoc  %dusmtask  %dvdplay  %dwm  %dwwin  %dxcap  %dxcpl  %dxdiag  %dxgiadaptercache  %dxpserver  %dynamodb_dump  %dynamodb_load  %eap3host  %easeofaccessdialog  %easinvoker  %easpolicymanagerbrokerhost  %easy_install  %echo  %ed  %edit  %edpcleanup  %edpnotify  %eduprintprov  %efsui  %ehstorauthn  %elbadmin  %env  %epylint  %esentutl  %eudcedit  %eventcreate  %eventvwr  %expand  %explorer  %extrac32  %f2py  %fax2ps  %fax2tiff  %fc  %fetch_file  %fhmanagew  %filehistory  %find  %findstr  %finger  %fits2bitmap  %fitscheck  %fitsdiff  %fitsheader  %fitsinfo  %fixmapi  %flask  %fltmc  %fodhelper  %fondue  %fontdrvhost  %fontview  %forfiles  %fsavailux  %fsiso  %fsquirt  %fsutil  %ftp  %futurize  %fvenotify  %fxscover  %fxssvc  %fxsunatd  %gamebarpresencewriter  %gamepanel  %genbrk  %genccode  %gencfu  %gencmn  %gencnval  %gendict  %gennorm2  %genrb  %gensprep  %genvalobj  %getmac  %gif2h5  %git  %git-gui  %git-lfs  %gitk  %glacier  %gpresult  %gpupdate  %grpconv  %gss-client  %gss-server  %gui  %h52gif  %h5clear  %h5copy  %h5copy-shared  %h5debug  %h5diff  %h5diff-shared  %h5dump  %h5dump-shared  %h5format_convert  %h5import  %h5jam  %h5ls  %h5ls-shared  %h5mkgrp  %h5repack  %h5repack-shared  %h5repart  %h5stat  %h5stat-shared  %h5unjam  %h5watch  %hdwwiz  %help  %helppane  %hh  %hist  %history  %hostname  %hvax64  %hvix64  %icacls  %icsentitlementhost  %icsunattend  %icuinfo  %icupkg  %idc  %idle  %ie4uinit  %ie4ushowie  %ieunatt  %iexpress  %immersivetpmvscmgrsvr  %infdefaultinstall  %inputswitchtoasthandler  %instance_events  %ipconfig  %iptest  %iptest3  %ipython  %ipython3  %iscsicli  %iscsicpl  %isoburn  %isort  %isympy  %jhi_service  %jlpm  %jpegtran  %jsonschema  %jupyter  %jupyter-bundlerextension  %jupyter-console  %jupyter-kernel  %jupyter-kernelspec  %jupyter-lab  %jupyter-labextension  %jupyter-labhub  %jupyter-migrate  %jupyter-nbconvert  %jupyter-nbextension  %jupyter-notebook  %jupyter-qtconsole  %jupyter-run  %jupyter-serverextension  %jupyter-troubleshoot  %jupyter-trust  %kcpytkt  %kdeltkt  %kdestroy  %keyring  %kfwcpcc  %kill_instance  %killbgscripts  %kinit  %klist  %kpasswd  %krb5  %ksetup  %kswitch  %ktmutil  %kvno  %label  %languagecomponentsinstallercomhandler  %launch_instance  %launchtm  %launchwinapp  %lconvert  %ldir  %legacynetuxhost  %less  %licensemanagershellext  %licensingdiag  %licensingui  %linguist  %list_instances  %load  %load_ext  %loadpy  %locationnotificationwindows  %locator  %lockapphost  %lockscreencontentserver  %lodctr  %logagent  %logman  %logoff  %logon  %logonui  %logstart  %logstate  %logstop  %lpkinstall  %lpksetup  %lpremove  %lrelease  %ls  %lsaiso  %lsass  %lsmagic  %lss3  %lupdate  %lz4  %lzmainfo  %macro  %magic  %magnify  %makecab  %makeconv  %manage-bde  %matplotlib  %maxxaudiometers64  %mbaeparsertask  %mblctr  %mbr2gpt  %mcbuilder  %mdeserver  %mdmagent  %mdmappinstaller  %mdmdiagnosticstool  %mdres  %mdsched  %menuinst  %mfpmp  %microsoftedge  %microsoftedgebchost  %microsoftedgecp  %microsoftedgedevtools  %microsoftedgesh  %mit2ms  %mitigationscanner  %mkdir  %mmc  %mmgaserver  %mobsync  %moc  %mofcomp  %more  %mountvol  %mousocoreworker  %mpnotify  %mrinfo  %mrt  %ms2mit  %mschedexe  %msconfig  %msdt  %msdtc  %msfeedssync  %mshta  %msiexec  %msinfo32  %mspaint  %msra  %msspellcheckinghost  %mstsc  %mtstocom  %mturk  %muiunattend  %multidigimon  %musnotification  %musnotificationux  %musnotifyicon  %narrator  %navigator-updater  %nbtstat  %ndadmin  %ndkping  %net  %net1  %netbtugc  %netcfg  %netcfgnotifyobjecthost  %netevtfwdr  %nethost  %netiougc  %netplwiz  %netsh  %netstat  %newdev  %ngciso  %nltest  %nosetests  %notebook  %notepad  %nslookup  %ntoskrnl  %ntprint  %numba  %odbcad32  %odbcconf  %ofdeploy  %omadmclient  %omadmprc  %openfiles  %openssl  %openwith  %optionalfeatures  %osk  %pacjsworker  %packagedcwalauncher  %page  %pageant  %pal2rgb  %pandoc  %pandoc-citeproc  %passwordonwakesettingflyout  %pastebin  %pasteurize  %pathping  %pcalua  %pcaui  %pcwrun  %pdb  %pdef  %pdoc  %pep8  %perfmon  %pfile  %phoneactivate  %pickerhost  %pinenrollmentbroker  %pinfo  %pinfo2  %ping  %pip  %pixeltool  %pkgdata  %pkginfo  %pkgmgr  %pktmon  %plasrv  %plink  %png-fix-itxt  %pngfix  %pnpunattend  %pnputil  %popd  %poqexec  %pospaymentsworker  %powercfg  %powershell  %powershell_ise  %ppm2tiff  %pprint  %precision  %presentationhost  %prevhost  %print  %printfilterpipelinesvc  %printisolationhost  %printui  %proquota  %provlaunch  %provtool  %proximityuxhost  %prproc  %prun  %pscp  %psearch  %psftp  %psource  %psr  %pt2to3  %ptdump  %ptrepack  %pttree  %pushd  %putty  %puttygen  %pwd  %pwlauncher  %py  %pyami_sendmail  %pybabel  %pycat  %pycc  %pycodestyle  %pydoc  %pyflakes  %pygmentize  %pyjson5  %pylab  %pylint  %pyreverse  %pytest  %python  %pythonw  %pyw  %qcollectiongenerator  %qdbus  %qdbuscpp2xml  %qdbusviewer  %qdbusxml2cpp  %qdoc  %qgltf  %qhelpconverter  %qhelpgenerator  %qlalr  %qmake  %qml  %qmlcachegen  %qmleasing  %qmlimportscanner  %qmllint  %qmlmin  %qmlplugindump  %qmlprofiler  %qmlscene  %qmltestrunner  %qscxmlc  %qtattributionsscanner  %qtconsole  %qtdiag  %qtpaths  %qtplugininfo  %qtwebengineprocess  %quickassist  %quickref  %qwebengine_convert_dict  %rasautou  %rasdial  %raserver  %rasphone  %raw2tiff  %rcc  %rdjpgcom  %rdpclip  %rdpinput  %rdpsa  %rdpsaproxy  %rdpsauachelper  %rdrleakdiag  %reagentc  %recall  %recdisc  %recover  %recoverydrive  %refsutil  %reg  %regedit  %regedt32  %regini  %register-cimprovider  %regsvr32  %rehashx  %rekeywiz  %reload_ext  %relog  %relpost  %remoteposworker  %ren  %rep  %repair-bde  %repc  %replace  %rerun  %reset  %reset_selective  %resetengine  %resmon  %rmactivate  %rmactivate_isv  %rmactivate_ssp  %rmactivate_ssp_isv  %rmclient  %rmdir  %rmttpmvscmgrsvr  %robocopy  %route  %route53  %rpcping  %rrinstaller  %rstrui  %rtcru64  %run  %runas  %rundll32  %runexehelper  %runlegacycplelevated  %runonce  %runtimebroker  %runxmlconf  %s3put  %samp_hub  %save  %sc  %schtasks  %scp  %scrcons  %sdbadmin  %sdbinst  %sdchange  %sdclt  %sdiagnhost  %searchfilterhost  %searchindexer  %searchprotocolhost  %secedit  %secinit  %securekernel  %securityhealthhost  %securityhealthservice  %securityhealthsystray  %sensordataservice  %services  %sessionmsg  %set_env  %sethc  %setspn  %settingsynchost  %setupcl  %setupugc  %setx  %sfc  %sftp  %sgrmbroker  %sgrmlpac  %showtable  %shrpubw  %shutdown  %sigverif  %sihclient  %sihost  %sip  %skivi  %slidetoshutdown  %slui  %smartscreen  %smss  %sndvol  %snippingtool  %snmptrap  %socketheciserver  %sort  %spaceagent  %spaceman  %spatialaudiolicensesrv  %spectrum  %sphinx-apidoc  %sphinx-autogen  %sphinx-build  %sphinx-quickstart  %splwow64  %spoolsv  %sppextcomobj  %sppsvc  %spyder  %spyder3  %sqlite3  %srdelayed  %srtasks  %ssh  %ssh-add  %ssh-agent  %ssh-keygen  %ssh-keyscan  %stordiag  %store  %subst  %svchost  %sx  %sxstrace  %symilar  %synchost  %sysreseterr  %system  %systeminfo  %systempropertiesadvanced  %systempropertiescomputername  %systempropertiesdataexecutionprevention  %systempropertieshardware  %systempropertiesperformance  %systempropertiesprotection  %systempropertiesremote  %systemreset  %systemsettingsadminflows  %systemsettingsbroker  %systemsettingsremovedevice  %systemuwplauncher  %systray  %tabcal  %takeown  %tapiunattend  %tar  %taskadmin  %taskhostw  %taskkill  %tasklist  %taskmgr  %tb  %tcblaunch  %tclsh  %tclsh86  %tclsh86t  %tcmsetup  %tcpsvcs  %testcon  %thumbnailextractionhost  %tieringengineservice  %tiff2bw  %tiff2pdf  %tiff2ps  %tiff2rgba  %tiffcmp  %tiffcp  %tiffcrop  %tiffdither  %tiffdump  %tiffinfo  %tiffmedian  %tiffset  %tiffsplit  %time  %timeit  %timeout  %tokenbrokercookies  %tpminit  %tpmvscmgr  %tpmvscmgrsvr  %tqdm  %tracerpt  %tracert  %tstheme  %tswbprxy  %tswpfwrp  %ttdinject  %tttracer  %typeperf  %tzsync  %tzutil  %uconv  %ucsvc  %uic  %uimgrbroker  %unalias  %uninstall-anaconda3  %unload_ext  %unlodctr  %unregmp2  %unsecapp  %unxz  %upfc  %upgraderesultsui  %upnpcont  %useraccountbroker  %useraccountcontrolsettings  %userinit  %usoclient  %usocoreworker  %utilman  %vaultcmd  %vds  %vdsldr  %verclsid  %verifier  %verifiergui  %volint  %vsgraphicsdesktopengine  %vsgraphicsremoteengine  %vssadmin  %vssvc  %vulkaninfo  %vulkaninfo-1-1-0-33-0  %vulkaninfo-1-999-0-0-0  %w32tm  %waasmedicagent  %waitfor  %wallpaperhost  %wbadmin  %wbemtest  %wbengine  %wcslint  %wecutil  %werfault  %werfaultsecure  %wermgr  %wevtutil  %wextract  %wfs  %wheel  %where  %who  %who_ls  %whoami  %whos  %wiaacmgr  %wiawow64  %wifitask  %wimserv  %winbiodatamodeloobe  %windeployqt  %windowsactiondialog  %windowsmediabackgroundplayback  %windowsupdateelevatedinstaller  %windowswarpjitservice  %winhlp32  %wininit  %winload  %winlogon  %winmgmt  %winpty-agent  %winresume  %winrs  %winrshost  %winrtnetmuahostserver  %winsat  %winver  %wish  %wish86  %wish86t  %wkspbroker  %wksprt  %wlanext  %wlrmdr  %wmiadap  %wmiapsrv  %wmic  %wmiprvse  %wmpdmc  %workfolders  %wowreg32  %wpcmon  %wpctok  %wpdshextautoplay  %wpnpinst  %wpr  %write  %wrjpgcom  %wscadminui  %wscollect  %wscript  %wsmanhttpconfig  %wsmprovhost  %wsqmcons  %wsreset  %wuapihost  %wuauclt  %wudfcompanionhost  %wudfhost  %wusa  %wwahost  %xblgamesavetask  %xcopy  %xdel  %xlwings  %xmlcatalog  %xmllint  %xmlpatterns  %xmlpatternsvalidator  %xmode  %xpsrchvw  %xsltproc  %xwizard  %xz  %xz_static  %zstd\n",
       "\n",
       "Available cell magics:\n",
       "%%!  %%HTML  %%SVG  %%bash  %%capture  %%cmd  %%debug  %%file  %%html  %%javascript  %%js  %%latex  %%markdown  %%perl  %%prun  %%pypy  %%python  %%python2  %%python3  %%ruby  %%script  %%sh  %%svg  %%sx  %%system  %%time  %%timeit  %%writefile\n",
       "\n",
       "Automagic is OFF, % prefix IS needed for line magics."
      ]
     },
     "execution_count": 42,
     "metadata": {},
     "output_type": "execute_result"
    }
   ],
   "source": [
    "%lsmagic"
   ]
  },
  {
   "cell_type": "markdown",
   "metadata": {},
   "source": [
    "### Not Sure Need More Exploration"
   ]
  },
  {
   "cell_type": "code",
   "execution_count": 43,
   "metadata": {},
   "outputs": [
    {
     "name": "stdout",
     "output_type": "stream",
     "text": [
      "IPython autoawait is `on`, and set to use `asyncio`\n"
     ]
    }
   ],
   "source": [
    "%autoawait"
   ]
  },
  {
   "cell_type": "code",
   "execution_count": 44,
   "metadata": {},
   "outputs": [
    {
     "name": "stdout",
     "output_type": "stream",
     "text": [
      "Automatic calling is: OFF\n"
     ]
    }
   ],
   "source": [
    "%autocall"
   ]
  },
  {
   "cell_type": "code",
   "execution_count": 45,
   "metadata": {},
   "outputs": [
    {
     "name": "stderr",
     "output_type": "stream",
     "text": [
      "UsageError: %colors: you must specify a color scheme. See '%colors?'\n"
     ]
    }
   ],
   "source": [
    "%colors"
   ]
  },
  {
   "cell_type": "code",
   "execution_count": 46,
   "metadata": {},
   "outputs": [
    {
     "name": "stdout",
     "output_type": "stream",
     "text": [
      "Available objects for config:\n",
      "     AliasManager\n",
      "     DisplayFormatter\n",
      "     HistoryManager\n",
      "     IPCompleter\n",
      "     IPKernelApp\n",
      "     LoggingMagics\n",
      "     MagicsManager\n",
      "     OSMagics\n",
      "     PrefilterManager\n",
      "     ScriptMagics\n",
      "     StoreMagics\n",
      "     ZMQInteractiveShell\n"
     ]
    }
   ],
   "source": [
    "%config"
   ]
  },
  {
   "cell_type": "code",
   "execution_count": 47,
   "metadata": {},
   "outputs": [
    {
     "name": "stdout",
     "output_type": "stream",
     "text": [
      "> \u001b[1;32mc:\\users\\pat\\anaconda3\\lib\\site-packages\\ipython\\core\\magics\\packaging.py\u001b[0m(85)\u001b[0;36mconda\u001b[1;34m()\u001b[0m\n",
      "\u001b[1;32m     83 \u001b[1;33m        \u001b[0mconda\u001b[0m \u001b[1;33m=\u001b[0m \u001b[0m_get_conda_executable\u001b[0m\u001b[1;33m(\u001b[0m\u001b[1;33m)\u001b[0m\u001b[1;33m\u001b[0m\u001b[1;33m\u001b[0m\u001b[0m\n",
      "\u001b[0m\u001b[1;32m     84 \u001b[1;33m        \u001b[0margs\u001b[0m \u001b[1;33m=\u001b[0m \u001b[0mshlex\u001b[0m\u001b[1;33m.\u001b[0m\u001b[0msplit\u001b[0m\u001b[1;33m(\u001b[0m\u001b[0mline\u001b[0m\u001b[1;33m)\u001b[0m\u001b[1;33m\u001b[0m\u001b[1;33m\u001b[0m\u001b[0m\n",
      "\u001b[0m\u001b[1;32m---> 85 \u001b[1;33m        \u001b[0mcommand\u001b[0m \u001b[1;33m=\u001b[0m \u001b[0margs\u001b[0m\u001b[1;33m[\u001b[0m\u001b[1;36m0\u001b[0m\u001b[1;33m]\u001b[0m\u001b[1;33m\u001b[0m\u001b[1;33m\u001b[0m\u001b[0m\n",
      "\u001b[0m\u001b[1;32m     86 \u001b[1;33m        \u001b[0margs\u001b[0m \u001b[1;33m=\u001b[0m \u001b[0margs\u001b[0m\u001b[1;33m[\u001b[0m\u001b[1;36m1\u001b[0m\u001b[1;33m:\u001b[0m\u001b[1;33m]\u001b[0m\u001b[1;33m\u001b[0m\u001b[1;33m\u001b[0m\u001b[0m\n",
      "\u001b[0m\u001b[1;32m     87 \u001b[1;33m        \u001b[0mextra_args\u001b[0m \u001b[1;33m=\u001b[0m \u001b[1;33m[\u001b[0m\u001b[1;33m]\u001b[0m\u001b[1;33m\u001b[0m\u001b[1;33m\u001b[0m\u001b[0m\n",
      "\u001b[0m\n",
      "ipdb> \n",
      "ipdb> z\n",
      "*** NameError: name 'z' is not defined\n",
      "ipdb> error\n",
      "*** NameError: name 'error' is not defined\n",
      "ipdb> exit\n"
     ]
    }
   ],
   "source": [
    "%debug"
   ]
  },
  {
   "cell_type": "code",
   "execution_count": 48,
   "metadata": {},
   "outputs": [
    {
     "name": "stdout",
     "output_type": "stream",
     "text": [
      "Exception reporting mode: Plain\n",
      "Doctest mode is: ON\n"
     ]
    }
   ],
   "source": [
    "%doctest_mode"
   ]
  },
  {
   "cell_type": "code",
   "execution_count": 49,
   "metadata": {},
   "outputs": [
    {
     "name": "stdout",
     "output_type": "stream",
     "text": [
      "IPython will make a temporary file named: C:\\Users\\Pat\\AppData\\Local\\Temp\\ipython_edit_zeveur6g\\ipython_edit_ygv8t9rg.py\n"
     ]
    }
   ],
   "source": [
    "%edit"
   ]
  },
  {
   "cell_type": "code",
   "execution_count": 50,
   "metadata": {},
   "outputs": [],
   "source": [
    "%gui"
   ]
  },
  {
   "cell_type": "code",
   "execution_count": 51,
   "metadata": {},
   "outputs": [
    {
     "name": "stderr",
     "output_type": "stream",
     "text": [
      "UsageError: Missing filename, URL, input history range, macro, or element in the user namespace.\n"
     ]
    }
   ],
   "source": [
    "%load"
   ]
  },
  {
   "cell_type": "code",
   "execution_count": 52,
   "metadata": {},
   "outputs": [
    {
     "name": "stdout",
     "output_type": "stream",
     "text": [
      "All background processes were killed.\n"
     ]
    }
   ],
   "source": [
    "%killbgscripts"
   ]
  },
  {
   "cell_type": "code",
   "execution_count": 53,
   "metadata": {},
   "outputs": [
    {
     "name": "stderr",
     "output_type": "stream",
     "text": [
      "UsageError: Missing module name.\n"
     ]
    }
   ],
   "source": [
    "%load_ext"
   ]
  },
  {
   "cell_type": "code",
   "execution_count": 54,
   "metadata": {},
   "outputs": [
    {
     "name": "stderr",
     "output_type": "stream",
     "text": [
      "UsageError: Missing filename, URL, input history range, macro, or element in the user namespace.\n"
     ]
    }
   ],
   "source": [
    "%loadpy"
   ]
  },
  {
   "cell_type": "code",
   "execution_count": 55,
   "metadata": {},
   "outputs": [
    {
     "data": {
      "text/plain": [
       "[]"
      ]
     },
     "execution_count": 55,
     "metadata": {},
     "output_type": "execute_result"
    }
   ],
   "source": [
    "%macro"
   ]
  },
  {
   "cell_type": "code",
   "execution_count": 56,
   "metadata": {},
   "outputs": [],
   "source": [
    "%magic"
   ]
  },
  {
   "cell_type": "code",
   "execution_count": 57,
   "metadata": {},
   "outputs": [
    {
     "name": "stdout",
     "output_type": "stream",
     "text": [
      "'' was not found in history, as a file, url, nor in the user namespace.\n"
     ]
    }
   ],
   "source": [
    "%pastebin"
   ]
  },
  {
   "cell_type": "code",
   "execution_count": 58,
   "metadata": {},
   "outputs": [
    {
     "name": "stdout",
     "output_type": "stream",
     "text": [
      "Automatic pdb calling has been turned ON\n"
     ]
    }
   ],
   "source": [
    "%pdb"
   ]
  },
  {
   "cell_type": "code",
   "execution_count": 59,
   "metadata": {},
   "outputs": [
    {
     "name": "stderr",
     "output_type": "stream",
     "text": [
      "UsageError: %popd on empty stack\n"
     ]
    }
   ],
   "source": [
    "%popd"
   ]
  },
  {
   "cell_type": "code",
   "execution_count": 60,
   "metadata": {},
   "outputs": [
    {
     "name": "stdout",
     "output_type": "stream",
     "text": [
      " "
     ]
    }
   ],
   "source": [
    "%prun"
   ]
  },
  {
   "cell_type": "code",
   "execution_count": 61,
   "metadata": {},
   "outputs": [],
   "source": [
    "%pycat http://www.google.com"
   ]
  },
  {
   "cell_type": "markdown",
   "metadata": {},
   "source": [
    "### Log Related"
   ]
  },
  {
   "cell_type": "code",
   "execution_count": 62,
   "metadata": {},
   "outputs": [
    {
     "name": "stdout",
     "output_type": "stream",
     "text": [
      "\n",
      "Logging hasn't been started yet (use logstart for that).\n",
      "\n",
      "%logon/%logoff are for temporarily starting and stopping logging for a logfile\n",
      "which already exists. But you must first start the logging process with\n",
      "%logstart (optionally giving a logfile name).\n"
     ]
    }
   ],
   "source": [
    "%logoff"
   ]
  },
  {
   "cell_type": "code",
   "execution_count": 63,
   "metadata": {},
   "outputs": [
    {
     "name": "stdout",
     "output_type": "stream",
     "text": [
      "\n",
      "Logging hasn't been started yet (use logstart for that).\n",
      "\n",
      "%logon/%logoff are for temporarily starting and stopping logging for a logfile\n",
      "which already exists. But you must first start the logging process with\n",
      "%logstart (optionally giving a logfile name).\n"
     ]
    }
   ],
   "source": [
    "%logon"
   ]
  },
  {
   "cell_type": "code",
   "execution_count": 64,
   "metadata": {},
   "outputs": [
    {
     "name": "stdout",
     "output_type": "stream",
     "text": [
      "Activating auto-logging. Current session state plus future input saved.\n",
      "Filename       : ipython_log.py\n",
      "Mode           : rotate\n",
      "Output logging : False\n",
      "Raw input log  : False\n",
      "Timestamping   : False\n",
      "State          : active\n"
     ]
    }
   ],
   "source": [
    "%logstart"
   ]
  },
  {
   "cell_type": "code",
   "execution_count": 65,
   "metadata": {},
   "outputs": [
    {
     "name": "stdout",
     "output_type": "stream",
     "text": [
      "Filename       : ipython_log.py\n",
      "Mode           : rotate\n",
      "Output logging : False\n",
      "Raw input log  : False\n",
      "Timestamping   : False\n",
      "State          : active\n"
     ]
    }
   ],
   "source": [
    "%logstate"
   ]
  },
  {
   "cell_type": "code",
   "execution_count": 66,
   "metadata": {},
   "outputs": [],
   "source": [
    "%logstop"
   ]
  },
  {
   "cell_type": "code",
   "execution_count": null,
   "metadata": {},
   "outputs": [],
   "source": [
    "%dirs"
   ]
  },
  {
   "cell_type": "code",
   "execution_count": null,
   "metadata": {},
   "outputs": [],
   "source": [
    "%pfile type"
   ]
  },
  {
   "cell_type": "code",
   "execution_count": null,
   "metadata": {},
   "outputs": [],
   "source": [
    "%pinfo2 object"
   ]
  },
  {
   "cell_type": "code",
   "execution_count": null,
   "metadata": {},
   "outputs": [],
   "source": []
  },
  {
   "cell_type": "markdown",
   "metadata": {},
   "source": [
    "### Mix with other Library"
   ]
  },
  {
   "cell_type": "code",
   "execution_count": 67,
   "metadata": {},
   "outputs": [
    {
     "ename": "AttributeError",
     "evalue": "'NoneType' object has no attribute 'lower'",
     "output_type": "error",
     "traceback": [
      "Traceback \u001b[1;36m(most recent call last)\u001b[0m:\n",
      "  File \u001b[0;32m\"<ipython-input-67-a49a4afc47c5>\"\u001b[0m, line \u001b[0;32m1\u001b[0m, in \u001b[0;35m<module>\u001b[0m\n    get_ipython().run_line_magic('matplotlib', '')\n",
      "  File \u001b[0;32m\"C:\\Users\\Pat\\Anaconda3\\lib\\site-packages\\IPython\\core\\interactiveshell.py\"\u001b[0m, line \u001b[0;32m2313\u001b[0m, in \u001b[0;35mrun_line_magic\u001b[0m\n    result = fn(*args, **kwargs)\n",
      "  File \u001b[0;32m\"<C:\\Users\\Pat\\Anaconda3\\lib\\site-packages\\decorator.py:decorator-gen-109>\"\u001b[0m, line \u001b[0;32m2\u001b[0m, in \u001b[0;35mmatplotlib\u001b[0m\n",
      "  File \u001b[0;32m\"C:\\Users\\Pat\\Anaconda3\\lib\\site-packages\\IPython\\core\\magic.py\"\u001b[0m, line \u001b[0;32m187\u001b[0m, in \u001b[0;35m<lambda>\u001b[0m\n    call = lambda f, *a, **k: f(*a, **k)\n",
      "\u001b[1;36m  File \u001b[1;32m\"C:\\Users\\Pat\\Anaconda3\\lib\\site-packages\\IPython\\core\\magics\\pylab.py\"\u001b[1;36m, line \u001b[1;32m99\u001b[1;36m, in \u001b[1;35mmatplotlib\u001b[1;36m\u001b[0m\n\u001b[1;33m    gui, backend = self.shell.enable_matplotlib(args.gui.lower())\u001b[0m\n",
      "\u001b[1;31mAttributeError\u001b[0m\u001b[1;31m:\u001b[0m 'NoneType' object has no attribute 'lower'\n"
     ]
    },
    {
     "name": "stdout",
     "output_type": "stream",
     "text": [
      "> \u001b[1;32mc:\\users\\pat\\anaconda3\\lib\\site-packages\\ipython\\core\\magics\\pylab.py\u001b[0m(99)\u001b[0;36mmatplotlib\u001b[1;34m()\u001b[0m\n",
      "\u001b[1;32m     97 \u001b[1;33m            \u001b[0mprint\u001b[0m\u001b[1;33m(\u001b[0m\u001b[1;34m\"Available matplotlib backends: %s\"\u001b[0m \u001b[1;33m%\u001b[0m \u001b[0mbackends_list\u001b[0m\u001b[1;33m)\u001b[0m\u001b[1;33m\u001b[0m\u001b[1;33m\u001b[0m\u001b[0m\n",
      "\u001b[0m\u001b[1;32m     98 \u001b[1;33m        \u001b[1;32melse\u001b[0m\u001b[1;33m:\u001b[0m\u001b[1;33m\u001b[0m\u001b[1;33m\u001b[0m\u001b[0m\n",
      "\u001b[0m\u001b[1;32m---> 99 \u001b[1;33m            \u001b[0mgui\u001b[0m\u001b[1;33m,\u001b[0m \u001b[0mbackend\u001b[0m \u001b[1;33m=\u001b[0m \u001b[0mself\u001b[0m\u001b[1;33m.\u001b[0m\u001b[0mshell\u001b[0m\u001b[1;33m.\u001b[0m\u001b[0menable_matplotlib\u001b[0m\u001b[1;33m(\u001b[0m\u001b[0margs\u001b[0m\u001b[1;33m.\u001b[0m\u001b[0mgui\u001b[0m\u001b[1;33m.\u001b[0m\u001b[0mlower\u001b[0m\u001b[1;33m(\u001b[0m\u001b[1;33m)\u001b[0m\u001b[1;33m)\u001b[0m\u001b[1;33m\u001b[0m\u001b[1;33m\u001b[0m\u001b[0m\n",
      "\u001b[0m\u001b[1;32m    100 \u001b[1;33m            \u001b[0mself\u001b[0m\u001b[1;33m.\u001b[0m\u001b[0m_show_matplotlib_backend\u001b[0m\u001b[1;33m(\u001b[0m\u001b[0margs\u001b[0m\u001b[1;33m.\u001b[0m\u001b[0mgui\u001b[0m\u001b[1;33m,\u001b[0m \u001b[0mbackend\u001b[0m\u001b[1;33m)\u001b[0m\u001b[1;33m\u001b[0m\u001b[1;33m\u001b[0m\u001b[0m\n",
      "\u001b[0m\u001b[1;32m    101 \u001b[1;33m\u001b[1;33m\u001b[0m\u001b[0m\n",
      "\u001b[0m\n",
      "ipdb> \n"
     ]
    }
   ],
   "source": [
    "%matplotlib"
   ]
  },
  {
   "cell_type": "code",
   "execution_count": 68,
   "metadata": {},
   "outputs": [
    {
     "name": "stderr",
     "output_type": "stream",
     "text": [
      "UsageError: the following arguments are required: filename\n"
     ]
    }
   ],
   "source": [
    "%notebook"
   ]
  },
  {
   "cell_type": "code",
   "execution_count": 69,
   "metadata": {},
   "outputs": [],
   "source": [
    "%page"
   ]
  },
  {
   "cell_type": "code",
   "execution_count": 70,
   "metadata": {},
   "outputs": [
    {
     "name": "stdout",
     "output_type": "stream",
     "text": [
      "Pretty printing has been turned ON\n"
     ]
    }
   ],
   "source": [
    "%pprint"
   ]
  },
  {
   "cell_type": "code",
   "execution_count": 71,
   "metadata": {},
   "outputs": [
    {
     "data": {
      "text/plain": [
       "3.147"
      ]
     },
     "execution_count": 71,
     "metadata": {},
     "output_type": "execute_result"
    }
   ],
   "source": [
    "%precision 3\n",
    "3.14678"
   ]
  },
  {
   "cell_type": "code",
   "execution_count": 72,
   "metadata": {},
   "outputs": [
    {
     "name": "stdout",
     "output_type": "stream",
     "text": [
      "Using matplotlib backend: Qt5Agg\n",
      "Populating the interactive namespace from numpy and matplotlib\n"
     ]
    }
   ],
   "source": [
    "%pylab"
   ]
  },
  {
   "cell_type": "code",
   "execution_count": 73,
   "metadata": {},
   "outputs": [],
   "source": [
    "%quickref"
   ]
  },
  {
   "cell_type": "code",
   "execution_count": 74,
   "metadata": {},
   "outputs": [],
   "source": [
    "%recall"
   ]
  },
  {
   "cell_type": "code",
   "execution_count": null,
   "metadata": {},
   "outputs": [],
   "source": [
    "3.14678"
   ]
  },
  {
   "cell_type": "code",
   "execution_count": 75,
   "metadata": {},
   "outputs": [
    {
     "data": {
      "text/plain": [
       "3.147"
      ]
     },
     "execution_count": 75,
     "metadata": {},
     "output_type": "execute_result"
    }
   ],
   "source": [
    "3.14678"
   ]
  },
  {
   "cell_type": "code",
   "execution_count": null,
   "metadata": {},
   "outputs": [],
   "source": []
  },
  {
   "cell_type": "code",
   "execution_count": null,
   "metadata": {},
   "outputs": [],
   "source": []
  },
  {
   "cell_type": "code",
   "execution_count": null,
   "metadata": {},
   "outputs": [],
   "source": []
  },
  {
   "cell_type": "markdown",
   "metadata": {},
   "source": [
    "### Cell Magic"
   ]
  },
  {
   "cell_type": "code",
   "execution_count": 34,
   "metadata": {},
   "outputs": [
    {
     "name": "stderr",
     "output_type": "stream",
     "text": [
      "UsageError: %%bash is a cell magic, but the cell body is empty.\n"
     ]
    }
   ],
   "source": [
    "%%bash"
   ]
  },
  {
   "cell_type": "code",
   "execution_count": 35,
   "metadata": {},
   "outputs": [
    {
     "name": "stderr",
     "output_type": "stream",
     "text": [
      "UsageError: %%capture is a cell magic, but the cell body is empty.\n"
     ]
    }
   ],
   "source": [
    "%%capture"
   ]
  },
  {
   "cell_type": "code",
   "execution_count": 36,
   "metadata": {},
   "outputs": [
    {
     "name": "stderr",
     "output_type": "stream",
     "text": [
      "UsageError: %%html is a cell magic, but the cell body is empty.\n"
     ]
    }
   ],
   "source": [
    "%%html"
   ]
  },
  {
   "cell_type": "code",
   "execution_count": 37,
   "metadata": {},
   "outputs": [
    {
     "name": "stderr",
     "output_type": "stream",
     "text": [
      "UsageError: %%javascript is a cell magic, but the cell body is empty.\n"
     ]
    }
   ],
   "source": [
    "%%javascript"
   ]
  },
  {
   "cell_type": "code",
   "execution_count": 38,
   "metadata": {},
   "outputs": [
    {
     "name": "stderr",
     "output_type": "stream",
     "text": [
      "UsageError: %%js is a cell magic, but the cell body is empty.\n"
     ]
    }
   ],
   "source": [
    "%%js"
   ]
  },
  {
   "cell_type": "code",
   "execution_count": 39,
   "metadata": {},
   "outputs": [
    {
     "name": "stderr",
     "output_type": "stream",
     "text": [
      "UsageError: %%latex is a cell magic, but the cell body is empty.\n"
     ]
    }
   ],
   "source": [
    "%%latex"
   ]
  },
  {
   "cell_type": "code",
   "execution_count": 40,
   "metadata": {},
   "outputs": [
    {
     "name": "stderr",
     "output_type": "stream",
     "text": [
      "UsageError: %%markdown is a cell magic, but the cell body is empty.\n"
     ]
    }
   ],
   "source": [
    "%%markdown"
   ]
  },
  {
   "cell_type": "code",
   "execution_count": 41,
   "metadata": {},
   "outputs": [
    {
     "name": "stderr",
     "output_type": "stream",
     "text": [
      "UsageError: %%perl is a cell magic, but the cell body is empty.\n"
     ]
    }
   ],
   "source": [
    "%%perl"
   ]
  },
  {
   "cell_type": "code",
   "execution_count": 42,
   "metadata": {},
   "outputs": [
    {
     "name": "stderr",
     "output_type": "stream",
     "text": [
      "UsageError: %%pypy is a cell magic, but the cell body is empty.\n"
     ]
    }
   ],
   "source": [
    "%%pypy"
   ]
  },
  {
   "cell_type": "code",
   "execution_count": 43,
   "metadata": {},
   "outputs": [
    {
     "name": "stderr",
     "output_type": "stream",
     "text": [
      "UsageError: %%python is a cell magic, but the cell body is empty. Did you mean the line magic %python (single %)?\n"
     ]
    }
   ],
   "source": [
    "%%python"
   ]
  },
  {
   "cell_type": "code",
   "execution_count": 44,
   "metadata": {},
   "outputs": [
    {
     "name": "stderr",
     "output_type": "stream",
     "text": [
      "UsageError: %%python2 is a cell magic, but the cell body is empty.\n"
     ]
    }
   ],
   "source": [
    "%%python2"
   ]
  },
  {
   "cell_type": "code",
   "execution_count": 45,
   "metadata": {},
   "outputs": [
    {
     "name": "stderr",
     "output_type": "stream",
     "text": [
      "UsageError: %%python3 is a cell magic, but the cell body is empty.\n"
     ]
    }
   ],
   "source": [
    "%%python3"
   ]
  },
  {
   "cell_type": "code",
   "execution_count": 46,
   "metadata": {},
   "outputs": [
    {
     "name": "stderr",
     "output_type": "stream",
     "text": [
      "UsageError: %%ruby is a cell magic, but the cell body is empty.\n"
     ]
    }
   ],
   "source": [
    "%%ruby"
   ]
  },
  {
   "cell_type": "code",
   "execution_count": 47,
   "metadata": {},
   "outputs": [
    {
     "name": "stderr",
     "output_type": "stream",
     "text": [
      "UsageError: %%script is a cell magic, but the cell body is empty.\n"
     ]
    }
   ],
   "source": [
    "%%script"
   ]
  },
  {
   "cell_type": "code",
   "execution_count": 48,
   "metadata": {},
   "outputs": [
    {
     "name": "stderr",
     "output_type": "stream",
     "text": [
      "UsageError: %%sh is a cell magic, but the cell body is empty.\n"
     ]
    }
   ],
   "source": [
    "%%sh"
   ]
  },
  {
   "cell_type": "code",
   "execution_count": 49,
   "metadata": {},
   "outputs": [
    {
     "name": "stderr",
     "output_type": "stream",
     "text": [
      "UsageError: %%svg is a cell magic, but the cell body is empty.\n"
     ]
    }
   ],
   "source": [
    "%%svg"
   ]
  },
  {
   "cell_type": "code",
   "execution_count": 50,
   "metadata": {},
   "outputs": [
    {
     "name": "stderr",
     "output_type": "stream",
     "text": [
      "UsageError: the following arguments are required: filename\n"
     ]
    }
   ],
   "source": [
    "%%writefile\n",
    "# %writefile [-a] filename"
   ]
  },
  {
   "cell_type": "markdown",
   "metadata": {},
   "source": [
    "### Reference"
   ]
  },
  {
   "cell_type": "markdown",
   "metadata": {},
   "source": [
    "Thanks to the great resources of the following: <br />\n",
    "[28 Jupyter Notebook Tips](https://www.dataquest.io/blog/jupyter-notebook-tips-tricks-shortcuts/) <br />\n",
    "[Spark Magic Official Documentation](https://ipython.readthedocs.io/en/stable/interactive/magics.html)"
   ]
  },
  {
   "cell_type": "code",
   "execution_count": null,
   "metadata": {},
   "outputs": [],
   "source": []
  }
 ],
 "metadata": {
  "kernelspec": {
   "display_name": "Python 3",
   "language": "python",
   "name": "python3"
  },
  "language_info": {
   "codemirror_mode": {
    "name": "ipython",
    "version": 3
   },
   "file_extension": ".py",
   "mimetype": "text/x-python",
   "name": "python",
   "nbconvert_exporter": "python",
   "pygments_lexer": "ipython3",
   "version": "3.7.3"
  }
 },
 "nbformat": 4,
 "nbformat_minor": 2
}
