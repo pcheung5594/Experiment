{
 "cells": [
  {
   "cell_type": "markdown",
   "metadata": {},
   "source": [
    "### Configure Spark Memory Requirement"
   ]
  },
  {
   "cell_type": "code",
   "execution_count": null,
   "metadata": {
    "cell_status": {
     "execute_time": {
      "duration": 18.10205078125,
      "end_time": 1570694918554.757
     }
    }
   },
   "outputs": [],
   "source": [
    "%%configure -f\n",
    "{\"name\": \"Data Checking\", \"executorMemory\": \"2G\", \"driverMemory\": \"5G\", \"executorCores\": 2, \"numExecutors\": 15}"
   ]
  },
  {
   "cell_type": "markdown",
   "metadata": {},
   "source": [
    "### Pandas Display Configuration"
   ]
  },
  {
   "cell_type": "code",
   "execution_count": 2,
   "metadata": {
    "cell_status": {
     "execute_time": {
      "duration": 54.076904296875,
      "end_time": 1570694918614.072
     }
    },
    "collapsed": true
   },
   "outputs": [],
   "source": [
    "%%local\n",
    "import pandas\n",
    "pandas.set_option('display.max_rows', None)\n",
    "pandas.set_option('display.max_columns', None)\n",
    "pandas.set_option('display.width', None)"
   ]
  },
  {
   "cell_type": "markdown",
   "metadata": {},
   "source": [
    "### Create Connection to Azure Blob Storage"
   ]
  },
  {
   "cell_type": "code",
   "execution_count": null,
   "metadata": {
    "cell_status": {
     "execute_time": {
      "duration": 34.52490234375,
      "end_time": 1570694947948.787
     }
    }
   },
   "outputs": [],
   "source": [
    "spark._jsc.hadoopConfiguration().set('AZURE_BLOB', 'KEY')"
   ]
  },
  {
   "cell_type": "markdown",
   "metadata": {},
   "source": [
    "### Path Variables for Varifying Data Structure"
   ]
  },
  {
   "cell_type": "code",
   "execution_count": 4,
   "metadata": {
    "cell_status": {
     "execute_time": {
      "duration": 32.22998046875,
      "end_time": 1570694947992.471
     }
    },
    "collapsed": true
   },
   "outputs": [],
   "source": [
    "path=\"YOUR_CSV_PATH\""
   ]
  },
  {
   "cell_type": "markdown",
   "metadata": {},
   "source": [
    "### Read CSV by Spark"
   ]
  },
  {
   "cell_type": "code",
   "execution_count": 5,
   "metadata": {
    "cell_status": {
     "execute_time": {
      "duration": 30.848876953125,
      "end_time": 1570694948054.379
     }
    },
    "collapsed": true
   },
   "outputs": [],
   "source": [
    "def read_csv(path):\n",
    "    return spark.read.csv(path)"
   ]
  },
  {
   "cell_type": "code",
   "execution_count": 6,
   "metadata": {
    "cell_status": {
     "execute_time": {
      "duration": 29.092041015625,
      "end_time": 1570694948131.406
     }
    },
    "collapsed": true
   },
   "outputs": [],
   "source": [
    "def get_shape(df):\n",
    "    print((df.count(), len(df.columns)))"
   ]
  },
  {
   "cell_type": "markdown",
   "metadata": {},
   "source": [
    "### Compare DF and Dedup"
   ]
  },
  {
   "cell_type": "code",
   "execution_count": 7,
   "metadata": {
    "cell_status": {
     "execute_time": {
      "duration": 31.81884765625,
      "end_time": 1570694948196.244
     }
    }
   },
   "outputs": [],
   "source": [
    "def check_diff(df, column_list):\n",
    "    if not column_list:\n",
    "        column_list = []\n",
    "    count = df.count()\n",
    "    drop_duplicates_counts = df.dropDuplicates(column_list).count()\n",
    "    if count != drop_duplicates_counts:\n",
    "        print('Found Duplicates')\n",
    "        print('Total Count: ' + str(count))\n",
    "        print('Drop Duplicates Count: ' + str(drop_duplicates_counts))\n",
    "        print('Duplicates Rows: ' + str(count - drop_duplicates_counts))\n",
    "    else:\n",
    "        print('No Duplicates Found')"
   ]
  },
  {
   "cell_type": "code",
   "execution_count": 8,
   "metadata": {
    "cell_status": {
     "execute_time": {
      "duration": 236.885986328125,
      "end_time": 1570694948527.458
     }
    }
   },
   "outputs": [],
   "source": [
    "from pyspark.sql.functions import collect_list, size, count, countDistinct, column"
   ]
  },
  {
   "cell_type": "code",
   "execution_count": 76,
   "metadata": {
    "cell_status": {
     "execute_time": {
      "duration": 27.543212890625,
      "end_time": 1570700138192.743
     }
    }
   },
   "outputs": [],
   "source": [
    "def not_null_checking(*argv):\n",
    "    for arg in argv:\n",
    "        i = create_column_name(arg)\n",
    "        null_count = df.where(df[i].isNull()).count()\n",
    "        if null_count > 0:\n",
    "            print(str(i) + ': ' + str(null_count) + ' Found')\n",
    "        else:\n",
    "            print(i + ' Has No Null Value Found')"
   ]
  },
  {
   "cell_type": "code",
   "execution_count": 64,
   "metadata": {
    "cell_status": {
     "execute_time": {
      "duration": 30.19482421875,
      "end_time": 1570699479657.551
     }
    }
   },
   "outputs": [],
   "source": [
    "# df.count() == df.dropDuplicates(['_c1']).count()\n",
    "def unikey_checking(column_list):\n",
    "#     column_list = ['_c1']\n",
    "    print('----------- Starting Column' + str(column_list[0]) + ' -----------')\n",
    "    check_diff(df, column_list)\n",
    "    grp = df.select(column_list).groupBy(column_list).count()\n",
    "    #.groupBy(column_list).agg(count(column_list[0]).alias('count'))\n",
    "    pandasDF = grp.filter('count != 1').toPandas()\n",
    "    counter = 1\n",
    "    for index, row in pandasDF.iterrows():\n",
    "        print('----------- Get Row ' + str(counter) + ' -----------')\n",
    "        df.where(column(column_list[0]) == row[0]).show(10)\n",
    "# df.createOrReplaceTempView(\"stats\")"
   ]
  },
  {
   "cell_type": "code",
   "execution_count": 77,
   "metadata": {
    "cell_status": {
     "execute_time": {
      "duration": 28.803955078125,
      "end_time": 1570700140332.226
     }
    },
    "collapsed": true
   },
   "outputs": [],
   "source": [
    "def create_column_name(num):\n",
    "    return '_c' + str(num)"
   ]
  },
  {
   "cell_type": "markdown",
   "metadata": {},
   "source": [
    "### Checking CSV Dataset"
   ]
  },
  {
   "cell_type": "code",
   "execution_count": null,
   "metadata": {
    "cell_status": {
     "execute_time": {
      "duration": 35452.428955078125,
      "end_time": 1570702230437.7
     }
    },
    "scrolled": true
   },
   "outputs": [],
   "source": [
    "df = read_csv(path)\n",
    "df.show(5)\n",
    "not_null_checking(0,6,24)\n",
    "unikey_checking(['_c0']) # Unikey, Primary Key Checking\n",
    "unikey_checking(['_c24', '_c6']) # Compound Key Checking"
   ]
  }
 ],
 "metadata": {
  "kernelspec": {
   "display_name": "Python 3",
   "language": "python",
   "name": "python3"
  },
  "language_info": {
   "codemirror_mode": {
    "name": "ipython",
    "version": 3
   },
   "file_extension": ".py",
   "mimetype": "text/x-python",
   "name": "python",
   "nbconvert_exporter": "python",
   "pygments_lexer": "ipython3",
   "version": "3.7.3"
  }
 },
 "nbformat": 4,
 "nbformat_minor": 2
}
